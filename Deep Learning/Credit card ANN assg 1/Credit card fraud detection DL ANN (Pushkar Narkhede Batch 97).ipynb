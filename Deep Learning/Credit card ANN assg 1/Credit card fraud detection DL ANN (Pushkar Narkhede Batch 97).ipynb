{
 "cells": [
  {
   "cell_type": "markdown",
   "id": "84659770-e8b9-4e0d-9baf-da49c5a9963e",
   "metadata": {},
   "source": [
    "# Assignment -\n",
    "### Predictiong credit card fraud detection using Artificial Neural Network ANN \n",
    "### Dataset Information -\n",
    "- The datasets contain transactions made by credit cards in September 2013 by European cardholders.\n",
    "- This dataset presents transactions that occurred in two days, where we have 492 frauds out of 284,807 transactions. \n",
    "- The dataset is highly unbalanced, the positive class (frauds) account for 0.172% of all transactions. \n",
    "- It contains only numerical input variables which are the result of a PCA transformation.\n",
    "- Unfortunately, due to confidentiality issues, we cannot provide the original features and more background information about the data. \n",
    "- Features V1, V2, … V28 are the principal components obtained with PCA, the only features which have not been transformed with PCA are 'Time' and 'Amount'. \n",
    "- Feature 'Time' contains the seconds elapsed between each transaction and the first transaction in the dataset.\n",
    "- The feature 'Amount' is the transaction Amount, this feature can be used for exampledependant cost-sensitive learning. \n",
    "- Feature 'Class' is the response variable and it takes value 1 in case of fraud and 0 otherwise."
   ]
  },
  {
   "cell_type": "markdown",
   "id": "85ded121-7248-4931-b846-8da0265c2d67",
   "metadata": {},
   "source": [
    "### Final Conclusion ( for ease i haved added conclusion at the top )\n",
    "- Model 5 is performing better as compare to other model with threshold of 0.25.\n",
    "- after comparing all ANN model Model 5 is best but we may modify the model or reduce the layer to work with similar output if possible.\n",
    "- Model 5 accuracy\n",
    "    1. Training Acc = 99.86\n",
    "    2. Testing Acc = 99.90\n",
    "- Model 5 Loss\n",
    "    1. Training Loss =  0.0053\n",
    "    2. Testing Loss = 0.0042\n",
    "- Model 5 Precision \n",
    "    1. Training Precision = 0.8211 \n",
    "    2. Testing Precision = 0.8409\n",
    "\n",
    "- Model 5 is predicting 113 fraud out of 136 are fraud trans but not able to predict remaining 23 which is also doing better than other models\n",
    "- Model 5 test average precision score with th 0.25 is 0.6855955056139688.\n",
    "\n",
    "\n",
    "#### Architecture of Model 5\n",
    "- This model has 11 hidden layers with variable neurons (256, 128 , 64, 32) and input layer with 29 neurons and op layer with 1 neuron which uses sigmoid activation function which soften the output rather than direct 0 and 1 and it pass 0 if op <0 else 1.\n",
    "- we have used all default optimizers and loss function with early stopping to stop the training of model and dropout to drop 20%  or 10% of neurons connection to make our model robust\n"
   ]
  },
  {
   "cell_type": "code",
   "execution_count": null,
   "id": "5f12c800-2cfe-4942-aabc-079d848a9bc7",
   "metadata": {},
   "outputs": [],
   "source": []
  },
  {
   "cell_type": "markdown",
   "id": "7d278060-c8ff-4879-8d67-a7732d352255",
   "metadata": {},
   "source": [
    "# Starting "
   ]
  },
  {
   "cell_type": "code",
   "execution_count": 41,
   "id": "c90223d7-f444-4021-92b9-234fa64f190a",
   "metadata": {},
   "outputs": [],
   "source": [
    "import pandas as pd\n",
    "import numpy as np\n",
    "import matplotlib.pyplot as plt\n",
    "%matplotlib inline\n",
    "import seaborn as sns\n",
    "from sklearn.model_selection import train_test_split\n",
    "import warnings\n",
    "warnings.filterwarnings('ignore')"
   ]
  },
  {
   "cell_type": "code",
   "execution_count": 2,
   "id": "66b8d0fa-4f5f-420a-90dc-9fb99ddf1bf1",
   "metadata": {},
   "outputs": [],
   "source": [
    "import tensorflow as tf\n",
    "from tensorflow.keras.models import Sequential\n",
    "from tensorflow.keras.layers import Dense\n",
    "from tensorflow.keras.optimizers import SGD,Adam"
   ]
  },
  {
   "cell_type": "code",
   "execution_count": 134,
   "id": "5364ca92-07d8-4603-8638-df0d50640d64",
   "metadata": {},
   "outputs": [
    {
     "data": {
      "text/plain": [
       "(284807, 31)"
      ]
     },
     "execution_count": 134,
     "metadata": {},
     "output_type": "execute_result"
    }
   ],
   "source": [
    "df = pd.read_csv('creditcard.csv')\n",
    "df.shape"
   ]
  },
  {
   "cell_type": "code",
   "execution_count": 135,
   "id": "403cabfa-7ca6-4fe0-a4e8-1ab245ce551e",
   "metadata": {},
   "outputs": [
    {
     "data": {
      "text/html": [
       "<div>\n",
       "<style scoped>\n",
       "    .dataframe tbody tr th:only-of-type {\n",
       "        vertical-align: middle;\n",
       "    }\n",
       "\n",
       "    .dataframe tbody tr th {\n",
       "        vertical-align: top;\n",
       "    }\n",
       "\n",
       "    .dataframe thead th {\n",
       "        text-align: right;\n",
       "    }\n",
       "</style>\n",
       "<table border=\"1\" class=\"dataframe\">\n",
       "  <thead>\n",
       "    <tr style=\"text-align: right;\">\n",
       "      <th></th>\n",
       "      <th>Time</th>\n",
       "      <th>V1</th>\n",
       "      <th>V2</th>\n",
       "      <th>V3</th>\n",
       "      <th>V4</th>\n",
       "      <th>V5</th>\n",
       "      <th>V6</th>\n",
       "      <th>V7</th>\n",
       "      <th>V8</th>\n",
       "      <th>V9</th>\n",
       "      <th>...</th>\n",
       "      <th>V21</th>\n",
       "      <th>V22</th>\n",
       "      <th>V23</th>\n",
       "      <th>V24</th>\n",
       "      <th>V25</th>\n",
       "      <th>V26</th>\n",
       "      <th>V27</th>\n",
       "      <th>V28</th>\n",
       "      <th>Amount</th>\n",
       "      <th>Class</th>\n",
       "    </tr>\n",
       "  </thead>\n",
       "  <tbody>\n",
       "    <tr>\n",
       "      <th>0</th>\n",
       "      <td>0.000</td>\n",
       "      <td>-1.360</td>\n",
       "      <td>-0.073</td>\n",
       "      <td>2.536</td>\n",
       "      <td>1.378</td>\n",
       "      <td>-0.338</td>\n",
       "      <td>0.462</td>\n",
       "      <td>0.240</td>\n",
       "      <td>0.099</td>\n",
       "      <td>0.364</td>\n",
       "      <td>...</td>\n",
       "      <td>-0.018</td>\n",
       "      <td>0.278</td>\n",
       "      <td>-0.110</td>\n",
       "      <td>0.067</td>\n",
       "      <td>0.129</td>\n",
       "      <td>-0.189</td>\n",
       "      <td>0.134</td>\n",
       "      <td>-0.021</td>\n",
       "      <td>149.620</td>\n",
       "      <td>0</td>\n",
       "    </tr>\n",
       "    <tr>\n",
       "      <th>1</th>\n",
       "      <td>0.000</td>\n",
       "      <td>1.192</td>\n",
       "      <td>0.266</td>\n",
       "      <td>0.166</td>\n",
       "      <td>0.448</td>\n",
       "      <td>0.060</td>\n",
       "      <td>-0.082</td>\n",
       "      <td>-0.079</td>\n",
       "      <td>0.085</td>\n",
       "      <td>-0.255</td>\n",
       "      <td>...</td>\n",
       "      <td>-0.226</td>\n",
       "      <td>-0.639</td>\n",
       "      <td>0.101</td>\n",
       "      <td>-0.340</td>\n",
       "      <td>0.167</td>\n",
       "      <td>0.126</td>\n",
       "      <td>-0.009</td>\n",
       "      <td>0.015</td>\n",
       "      <td>2.690</td>\n",
       "      <td>0</td>\n",
       "    </tr>\n",
       "    <tr>\n",
       "      <th>2</th>\n",
       "      <td>1.000</td>\n",
       "      <td>-1.358</td>\n",
       "      <td>-1.340</td>\n",
       "      <td>1.773</td>\n",
       "      <td>0.380</td>\n",
       "      <td>-0.503</td>\n",
       "      <td>1.800</td>\n",
       "      <td>0.791</td>\n",
       "      <td>0.248</td>\n",
       "      <td>-1.515</td>\n",
       "      <td>...</td>\n",
       "      <td>0.248</td>\n",
       "      <td>0.772</td>\n",
       "      <td>0.909</td>\n",
       "      <td>-0.689</td>\n",
       "      <td>-0.328</td>\n",
       "      <td>-0.139</td>\n",
       "      <td>-0.055</td>\n",
       "      <td>-0.060</td>\n",
       "      <td>378.660</td>\n",
       "      <td>0</td>\n",
       "    </tr>\n",
       "    <tr>\n",
       "      <th>3</th>\n",
       "      <td>1.000</td>\n",
       "      <td>-0.966</td>\n",
       "      <td>-0.185</td>\n",
       "      <td>1.793</td>\n",
       "      <td>-0.863</td>\n",
       "      <td>-0.010</td>\n",
       "      <td>1.247</td>\n",
       "      <td>0.238</td>\n",
       "      <td>0.377</td>\n",
       "      <td>-1.387</td>\n",
       "      <td>...</td>\n",
       "      <td>-0.108</td>\n",
       "      <td>0.005</td>\n",
       "      <td>-0.190</td>\n",
       "      <td>-1.176</td>\n",
       "      <td>0.647</td>\n",
       "      <td>-0.222</td>\n",
       "      <td>0.063</td>\n",
       "      <td>0.061</td>\n",
       "      <td>123.500</td>\n",
       "      <td>0</td>\n",
       "    </tr>\n",
       "    <tr>\n",
       "      <th>4</th>\n",
       "      <td>2.000</td>\n",
       "      <td>-1.158</td>\n",
       "      <td>0.878</td>\n",
       "      <td>1.549</td>\n",
       "      <td>0.403</td>\n",
       "      <td>-0.407</td>\n",
       "      <td>0.096</td>\n",
       "      <td>0.593</td>\n",
       "      <td>-0.271</td>\n",
       "      <td>0.818</td>\n",
       "      <td>...</td>\n",
       "      <td>-0.009</td>\n",
       "      <td>0.798</td>\n",
       "      <td>-0.137</td>\n",
       "      <td>0.141</td>\n",
       "      <td>-0.206</td>\n",
       "      <td>0.502</td>\n",
       "      <td>0.219</td>\n",
       "      <td>0.215</td>\n",
       "      <td>69.990</td>\n",
       "      <td>0</td>\n",
       "    </tr>\n",
       "    <tr>\n",
       "      <th>5</th>\n",
       "      <td>2.000</td>\n",
       "      <td>-0.426</td>\n",
       "      <td>0.961</td>\n",
       "      <td>1.141</td>\n",
       "      <td>-0.168</td>\n",
       "      <td>0.421</td>\n",
       "      <td>-0.030</td>\n",
       "      <td>0.476</td>\n",
       "      <td>0.260</td>\n",
       "      <td>-0.569</td>\n",
       "      <td>...</td>\n",
       "      <td>-0.208</td>\n",
       "      <td>-0.560</td>\n",
       "      <td>-0.026</td>\n",
       "      <td>-0.371</td>\n",
       "      <td>-0.233</td>\n",
       "      <td>0.106</td>\n",
       "      <td>0.254</td>\n",
       "      <td>0.081</td>\n",
       "      <td>3.670</td>\n",
       "      <td>0</td>\n",
       "    </tr>\n",
       "    <tr>\n",
       "      <th>6</th>\n",
       "      <td>4.000</td>\n",
       "      <td>1.230</td>\n",
       "      <td>0.141</td>\n",
       "      <td>0.045</td>\n",
       "      <td>1.203</td>\n",
       "      <td>0.192</td>\n",
       "      <td>0.273</td>\n",
       "      <td>-0.005</td>\n",
       "      <td>0.081</td>\n",
       "      <td>0.465</td>\n",
       "      <td>...</td>\n",
       "      <td>-0.168</td>\n",
       "      <td>-0.271</td>\n",
       "      <td>-0.154</td>\n",
       "      <td>-0.780</td>\n",
       "      <td>0.750</td>\n",
       "      <td>-0.257</td>\n",
       "      <td>0.035</td>\n",
       "      <td>0.005</td>\n",
       "      <td>4.990</td>\n",
       "      <td>0</td>\n",
       "    </tr>\n",
       "    <tr>\n",
       "      <th>7</th>\n",
       "      <td>7.000</td>\n",
       "      <td>-0.644</td>\n",
       "      <td>1.418</td>\n",
       "      <td>1.074</td>\n",
       "      <td>-0.492</td>\n",
       "      <td>0.949</td>\n",
       "      <td>0.428</td>\n",
       "      <td>1.121</td>\n",
       "      <td>-3.808</td>\n",
       "      <td>0.615</td>\n",
       "      <td>...</td>\n",
       "      <td>1.943</td>\n",
       "      <td>-1.015</td>\n",
       "      <td>0.058</td>\n",
       "      <td>-0.650</td>\n",
       "      <td>-0.415</td>\n",
       "      <td>-0.052</td>\n",
       "      <td>-1.207</td>\n",
       "      <td>-1.085</td>\n",
       "      <td>40.800</td>\n",
       "      <td>0</td>\n",
       "    </tr>\n",
       "    <tr>\n",
       "      <th>8</th>\n",
       "      <td>7.000</td>\n",
       "      <td>-0.894</td>\n",
       "      <td>0.286</td>\n",
       "      <td>-0.113</td>\n",
       "      <td>-0.272</td>\n",
       "      <td>2.670</td>\n",
       "      <td>3.722</td>\n",
       "      <td>0.370</td>\n",
       "      <td>0.851</td>\n",
       "      <td>-0.392</td>\n",
       "      <td>...</td>\n",
       "      <td>-0.073</td>\n",
       "      <td>-0.268</td>\n",
       "      <td>-0.204</td>\n",
       "      <td>1.012</td>\n",
       "      <td>0.373</td>\n",
       "      <td>-0.384</td>\n",
       "      <td>0.012</td>\n",
       "      <td>0.142</td>\n",
       "      <td>93.200</td>\n",
       "      <td>0</td>\n",
       "    </tr>\n",
       "    <tr>\n",
       "      <th>9</th>\n",
       "      <td>9.000</td>\n",
       "      <td>-0.338</td>\n",
       "      <td>1.120</td>\n",
       "      <td>1.044</td>\n",
       "      <td>-0.222</td>\n",
       "      <td>0.499</td>\n",
       "      <td>-0.247</td>\n",
       "      <td>0.652</td>\n",
       "      <td>0.070</td>\n",
       "      <td>-0.737</td>\n",
       "      <td>...</td>\n",
       "      <td>-0.247</td>\n",
       "      <td>-0.634</td>\n",
       "      <td>-0.121</td>\n",
       "      <td>-0.385</td>\n",
       "      <td>-0.070</td>\n",
       "      <td>0.094</td>\n",
       "      <td>0.246</td>\n",
       "      <td>0.083</td>\n",
       "      <td>3.680</td>\n",
       "      <td>0</td>\n",
       "    </tr>\n",
       "  </tbody>\n",
       "</table>\n",
       "<p>10 rows × 31 columns</p>\n",
       "</div>"
      ],
      "text/plain": [
       "   Time     V1     V2     V3     V4     V5     V6     V7     V8     V9  ...  \\\n",
       "0 0.000 -1.360 -0.073  2.536  1.378 -0.338  0.462  0.240  0.099  0.364  ...   \n",
       "1 0.000  1.192  0.266  0.166  0.448  0.060 -0.082 -0.079  0.085 -0.255  ...   \n",
       "2 1.000 -1.358 -1.340  1.773  0.380 -0.503  1.800  0.791  0.248 -1.515  ...   \n",
       "3 1.000 -0.966 -0.185  1.793 -0.863 -0.010  1.247  0.238  0.377 -1.387  ...   \n",
       "4 2.000 -1.158  0.878  1.549  0.403 -0.407  0.096  0.593 -0.271  0.818  ...   \n",
       "5 2.000 -0.426  0.961  1.141 -0.168  0.421 -0.030  0.476  0.260 -0.569  ...   \n",
       "6 4.000  1.230  0.141  0.045  1.203  0.192  0.273 -0.005  0.081  0.465  ...   \n",
       "7 7.000 -0.644  1.418  1.074 -0.492  0.949  0.428  1.121 -3.808  0.615  ...   \n",
       "8 7.000 -0.894  0.286 -0.113 -0.272  2.670  3.722  0.370  0.851 -0.392  ...   \n",
       "9 9.000 -0.338  1.120  1.044 -0.222  0.499 -0.247  0.652  0.070 -0.737  ...   \n",
       "\n",
       "     V21    V22    V23    V24    V25    V26    V27    V28  Amount  Class  \n",
       "0 -0.018  0.278 -0.110  0.067  0.129 -0.189  0.134 -0.021 149.620      0  \n",
       "1 -0.226 -0.639  0.101 -0.340  0.167  0.126 -0.009  0.015   2.690      0  \n",
       "2  0.248  0.772  0.909 -0.689 -0.328 -0.139 -0.055 -0.060 378.660      0  \n",
       "3 -0.108  0.005 -0.190 -1.176  0.647 -0.222  0.063  0.061 123.500      0  \n",
       "4 -0.009  0.798 -0.137  0.141 -0.206  0.502  0.219  0.215  69.990      0  \n",
       "5 -0.208 -0.560 -0.026 -0.371 -0.233  0.106  0.254  0.081   3.670      0  \n",
       "6 -0.168 -0.271 -0.154 -0.780  0.750 -0.257  0.035  0.005   4.990      0  \n",
       "7  1.943 -1.015  0.058 -0.650 -0.415 -0.052 -1.207 -1.085  40.800      0  \n",
       "8 -0.073 -0.268 -0.204  1.012  0.373 -0.384  0.012  0.142  93.200      0  \n",
       "9 -0.247 -0.634 -0.121 -0.385 -0.070  0.094  0.246  0.083   3.680      0  \n",
       "\n",
       "[10 rows x 31 columns]"
      ]
     },
     "execution_count": 135,
     "metadata": {},
     "output_type": "execute_result"
    }
   ],
   "source": [
    "df.head(10)"
   ]
  },
  {
   "cell_type": "markdown",
   "id": "83de70b1-6c11-492e-8e85-dd2ce20032bd",
   "metadata": {},
   "source": [
    "- All the given data is already normalised or scaled.\n",
    "- we can observe that the data is already preprocessed hence we doesn't need to preprocess the data.\n",
    "- still to understand the given data will plot some plots and perform some stats testing."
   ]
  },
  {
   "cell_type": "code",
   "execution_count": 136,
   "id": "db590487-6142-4d86-a8c1-04715a3225ea",
   "metadata": {},
   "outputs": [],
   "source": [
    "pd.set_option('display.float_format', lambda data: '%.3f' % data)"
   ]
  },
  {
   "cell_type": "code",
   "execution_count": 137,
   "id": "7d13767b-5d03-4335-9f77-a7e9324d36c2",
   "metadata": {},
   "outputs": [
    {
     "data": {
      "text/html": [
       "<div>\n",
       "<style scoped>\n",
       "    .dataframe tbody tr th:only-of-type {\n",
       "        vertical-align: middle;\n",
       "    }\n",
       "\n",
       "    .dataframe tbody tr th {\n",
       "        vertical-align: top;\n",
       "    }\n",
       "\n",
       "    .dataframe thead th {\n",
       "        text-align: right;\n",
       "    }\n",
       "</style>\n",
       "<table border=\"1\" class=\"dataframe\">\n",
       "  <thead>\n",
       "    <tr style=\"text-align: right;\">\n",
       "      <th></th>\n",
       "      <th>Time</th>\n",
       "      <th>V1</th>\n",
       "      <th>V2</th>\n",
       "      <th>V3</th>\n",
       "      <th>V4</th>\n",
       "      <th>V5</th>\n",
       "      <th>V6</th>\n",
       "      <th>V7</th>\n",
       "      <th>V8</th>\n",
       "      <th>V9</th>\n",
       "      <th>...</th>\n",
       "      <th>V21</th>\n",
       "      <th>V22</th>\n",
       "      <th>V23</th>\n",
       "      <th>V24</th>\n",
       "      <th>V25</th>\n",
       "      <th>V26</th>\n",
       "      <th>V27</th>\n",
       "      <th>V28</th>\n",
       "      <th>Amount</th>\n",
       "      <th>Class</th>\n",
       "    </tr>\n",
       "  </thead>\n",
       "  <tbody>\n",
       "    <tr>\n",
       "      <th>count</th>\n",
       "      <td>284807.000</td>\n",
       "      <td>284807.000</td>\n",
       "      <td>284807.000</td>\n",
       "      <td>284807.000</td>\n",
       "      <td>284807.000</td>\n",
       "      <td>284807.000</td>\n",
       "      <td>284807.000</td>\n",
       "      <td>284807.000</td>\n",
       "      <td>284807.000</td>\n",
       "      <td>284807.000</td>\n",
       "      <td>...</td>\n",
       "      <td>284807.000</td>\n",
       "      <td>284807.000</td>\n",
       "      <td>284807.000</td>\n",
       "      <td>284807.000</td>\n",
       "      <td>284807.000</td>\n",
       "      <td>284807.000</td>\n",
       "      <td>284807.000</td>\n",
       "      <td>284807.000</td>\n",
       "      <td>284807.000</td>\n",
       "      <td>284807.000</td>\n",
       "    </tr>\n",
       "    <tr>\n",
       "      <th>mean</th>\n",
       "      <td>94813.860</td>\n",
       "      <td>0.000</td>\n",
       "      <td>0.000</td>\n",
       "      <td>-0.000</td>\n",
       "      <td>0.000</td>\n",
       "      <td>-0.000</td>\n",
       "      <td>0.000</td>\n",
       "      <td>-0.000</td>\n",
       "      <td>-0.000</td>\n",
       "      <td>-0.000</td>\n",
       "      <td>...</td>\n",
       "      <td>0.000</td>\n",
       "      <td>0.000</td>\n",
       "      <td>0.000</td>\n",
       "      <td>0.000</td>\n",
       "      <td>0.000</td>\n",
       "      <td>0.000</td>\n",
       "      <td>-0.000</td>\n",
       "      <td>-0.000</td>\n",
       "      <td>88.350</td>\n",
       "      <td>0.002</td>\n",
       "    </tr>\n",
       "    <tr>\n",
       "      <th>std</th>\n",
       "      <td>47488.146</td>\n",
       "      <td>1.959</td>\n",
       "      <td>1.651</td>\n",
       "      <td>1.516</td>\n",
       "      <td>1.416</td>\n",
       "      <td>1.380</td>\n",
       "      <td>1.332</td>\n",
       "      <td>1.237</td>\n",
       "      <td>1.194</td>\n",
       "      <td>1.099</td>\n",
       "      <td>...</td>\n",
       "      <td>0.735</td>\n",
       "      <td>0.726</td>\n",
       "      <td>0.624</td>\n",
       "      <td>0.606</td>\n",
       "      <td>0.521</td>\n",
       "      <td>0.482</td>\n",
       "      <td>0.404</td>\n",
       "      <td>0.330</td>\n",
       "      <td>250.120</td>\n",
       "      <td>0.042</td>\n",
       "    </tr>\n",
       "    <tr>\n",
       "      <th>min</th>\n",
       "      <td>0.000</td>\n",
       "      <td>-56.408</td>\n",
       "      <td>-72.716</td>\n",
       "      <td>-48.326</td>\n",
       "      <td>-5.683</td>\n",
       "      <td>-113.743</td>\n",
       "      <td>-26.161</td>\n",
       "      <td>-43.557</td>\n",
       "      <td>-73.217</td>\n",
       "      <td>-13.434</td>\n",
       "      <td>...</td>\n",
       "      <td>-34.830</td>\n",
       "      <td>-10.933</td>\n",
       "      <td>-44.808</td>\n",
       "      <td>-2.837</td>\n",
       "      <td>-10.295</td>\n",
       "      <td>-2.605</td>\n",
       "      <td>-22.566</td>\n",
       "      <td>-15.430</td>\n",
       "      <td>0.000</td>\n",
       "      <td>0.000</td>\n",
       "    </tr>\n",
       "    <tr>\n",
       "      <th>25%</th>\n",
       "      <td>54201.500</td>\n",
       "      <td>-0.920</td>\n",
       "      <td>-0.599</td>\n",
       "      <td>-0.890</td>\n",
       "      <td>-0.849</td>\n",
       "      <td>-0.692</td>\n",
       "      <td>-0.768</td>\n",
       "      <td>-0.554</td>\n",
       "      <td>-0.209</td>\n",
       "      <td>-0.643</td>\n",
       "      <td>...</td>\n",
       "      <td>-0.228</td>\n",
       "      <td>-0.542</td>\n",
       "      <td>-0.162</td>\n",
       "      <td>-0.355</td>\n",
       "      <td>-0.317</td>\n",
       "      <td>-0.327</td>\n",
       "      <td>-0.071</td>\n",
       "      <td>-0.053</td>\n",
       "      <td>5.600</td>\n",
       "      <td>0.000</td>\n",
       "    </tr>\n",
       "    <tr>\n",
       "      <th>50%</th>\n",
       "      <td>84692.000</td>\n",
       "      <td>0.018</td>\n",
       "      <td>0.065</td>\n",
       "      <td>0.180</td>\n",
       "      <td>-0.020</td>\n",
       "      <td>-0.054</td>\n",
       "      <td>-0.274</td>\n",
       "      <td>0.040</td>\n",
       "      <td>0.022</td>\n",
       "      <td>-0.051</td>\n",
       "      <td>...</td>\n",
       "      <td>-0.029</td>\n",
       "      <td>0.007</td>\n",
       "      <td>-0.011</td>\n",
       "      <td>0.041</td>\n",
       "      <td>0.017</td>\n",
       "      <td>-0.052</td>\n",
       "      <td>0.001</td>\n",
       "      <td>0.011</td>\n",
       "      <td>22.000</td>\n",
       "      <td>0.000</td>\n",
       "    </tr>\n",
       "    <tr>\n",
       "      <th>75%</th>\n",
       "      <td>139320.500</td>\n",
       "      <td>1.316</td>\n",
       "      <td>0.804</td>\n",
       "      <td>1.027</td>\n",
       "      <td>0.743</td>\n",
       "      <td>0.612</td>\n",
       "      <td>0.399</td>\n",
       "      <td>0.570</td>\n",
       "      <td>0.327</td>\n",
       "      <td>0.597</td>\n",
       "      <td>...</td>\n",
       "      <td>0.186</td>\n",
       "      <td>0.529</td>\n",
       "      <td>0.148</td>\n",
       "      <td>0.440</td>\n",
       "      <td>0.351</td>\n",
       "      <td>0.241</td>\n",
       "      <td>0.091</td>\n",
       "      <td>0.078</td>\n",
       "      <td>77.165</td>\n",
       "      <td>0.000</td>\n",
       "    </tr>\n",
       "    <tr>\n",
       "      <th>max</th>\n",
       "      <td>172792.000</td>\n",
       "      <td>2.455</td>\n",
       "      <td>22.058</td>\n",
       "      <td>9.383</td>\n",
       "      <td>16.875</td>\n",
       "      <td>34.802</td>\n",
       "      <td>73.302</td>\n",
       "      <td>120.589</td>\n",
       "      <td>20.007</td>\n",
       "      <td>15.595</td>\n",
       "      <td>...</td>\n",
       "      <td>27.203</td>\n",
       "      <td>10.503</td>\n",
       "      <td>22.528</td>\n",
       "      <td>4.585</td>\n",
       "      <td>7.520</td>\n",
       "      <td>3.517</td>\n",
       "      <td>31.612</td>\n",
       "      <td>33.848</td>\n",
       "      <td>25691.160</td>\n",
       "      <td>1.000</td>\n",
       "    </tr>\n",
       "  </tbody>\n",
       "</table>\n",
       "<p>8 rows × 31 columns</p>\n",
       "</div>"
      ],
      "text/plain": [
       "            Time         V1         V2         V3         V4         V5  \\\n",
       "count 284807.000 284807.000 284807.000 284807.000 284807.000 284807.000   \n",
       "mean   94813.860      0.000      0.000     -0.000      0.000     -0.000   \n",
       "std    47488.146      1.959      1.651      1.516      1.416      1.380   \n",
       "min        0.000    -56.408    -72.716    -48.326     -5.683   -113.743   \n",
       "25%    54201.500     -0.920     -0.599     -0.890     -0.849     -0.692   \n",
       "50%    84692.000      0.018      0.065      0.180     -0.020     -0.054   \n",
       "75%   139320.500      1.316      0.804      1.027      0.743      0.612   \n",
       "max   172792.000      2.455     22.058      9.383     16.875     34.802   \n",
       "\n",
       "              V6         V7         V8         V9  ...        V21        V22  \\\n",
       "count 284807.000 284807.000 284807.000 284807.000  ... 284807.000 284807.000   \n",
       "mean       0.000     -0.000     -0.000     -0.000  ...      0.000      0.000   \n",
       "std        1.332      1.237      1.194      1.099  ...      0.735      0.726   \n",
       "min      -26.161    -43.557    -73.217    -13.434  ...    -34.830    -10.933   \n",
       "25%       -0.768     -0.554     -0.209     -0.643  ...     -0.228     -0.542   \n",
       "50%       -0.274      0.040      0.022     -0.051  ...     -0.029      0.007   \n",
       "75%        0.399      0.570      0.327      0.597  ...      0.186      0.529   \n",
       "max       73.302    120.589     20.007     15.595  ...     27.203     10.503   \n",
       "\n",
       "             V23        V24        V25        V26        V27        V28  \\\n",
       "count 284807.000 284807.000 284807.000 284807.000 284807.000 284807.000   \n",
       "mean       0.000      0.000      0.000      0.000     -0.000     -0.000   \n",
       "std        0.624      0.606      0.521      0.482      0.404      0.330   \n",
       "min      -44.808     -2.837    -10.295     -2.605    -22.566    -15.430   \n",
       "25%       -0.162     -0.355     -0.317     -0.327     -0.071     -0.053   \n",
       "50%       -0.011      0.041      0.017     -0.052      0.001      0.011   \n",
       "75%        0.148      0.440      0.351      0.241      0.091      0.078   \n",
       "max       22.528      4.585      7.520      3.517     31.612     33.848   \n",
       "\n",
       "          Amount      Class  \n",
       "count 284807.000 284807.000  \n",
       "mean      88.350      0.002  \n",
       "std      250.120      0.042  \n",
       "min        0.000      0.000  \n",
       "25%        5.600      0.000  \n",
       "50%       22.000      0.000  \n",
       "75%       77.165      0.000  \n",
       "max    25691.160      1.000  \n",
       "\n",
       "[8 rows x 31 columns]"
      ]
     },
     "execution_count": 137,
     "metadata": {},
     "output_type": "execute_result"
    }
   ],
   "source": [
    "df.describe()"
   ]
  },
  {
   "cell_type": "markdown",
   "id": "d99d733d-acb4-4a02-9428-e71c5d01b7fd",
   "metadata": {},
   "source": [
    "- the data is not scaled or normalised  as we can observe there are some max values hence we have to normalise the data.\n"
   ]
  },
  {
   "cell_type": "code",
   "execution_count": 138,
   "id": "ad74c175-9be6-48e0-a83c-e87f21c1ee12",
   "metadata": {},
   "outputs": [
    {
     "name": "stdout",
     "output_type": "stream",
     "text": [
      "<class 'pandas.core.frame.DataFrame'>\n",
      "RangeIndex: 284807 entries, 0 to 284806\n",
      "Data columns (total 31 columns):\n",
      " #   Column  Non-Null Count   Dtype  \n",
      "---  ------  --------------   -----  \n",
      " 0   Time    284807 non-null  float64\n",
      " 1   V1      284807 non-null  float64\n",
      " 2   V2      284807 non-null  float64\n",
      " 3   V3      284807 non-null  float64\n",
      " 4   V4      284807 non-null  float64\n",
      " 5   V5      284807 non-null  float64\n",
      " 6   V6      284807 non-null  float64\n",
      " 7   V7      284807 non-null  float64\n",
      " 8   V8      284807 non-null  float64\n",
      " 9   V9      284807 non-null  float64\n",
      " 10  V10     284807 non-null  float64\n",
      " 11  V11     284807 non-null  float64\n",
      " 12  V12     284807 non-null  float64\n",
      " 13  V13     284807 non-null  float64\n",
      " 14  V14     284807 non-null  float64\n",
      " 15  V15     284807 non-null  float64\n",
      " 16  V16     284807 non-null  float64\n",
      " 17  V17     284807 non-null  float64\n",
      " 18  V18     284807 non-null  float64\n",
      " 19  V19     284807 non-null  float64\n",
      " 20  V20     284807 non-null  float64\n",
      " 21  V21     284807 non-null  float64\n",
      " 22  V22     284807 non-null  float64\n",
      " 23  V23     284807 non-null  float64\n",
      " 24  V24     284807 non-null  float64\n",
      " 25  V25     284807 non-null  float64\n",
      " 26  V26     284807 non-null  float64\n",
      " 27  V27     284807 non-null  float64\n",
      " 28  V28     284807 non-null  float64\n",
      " 29  Amount  284807 non-null  float64\n",
      " 30  Class   284807 non-null  int64  \n",
      "dtypes: float64(30), int64(1)\n",
      "memory usage: 67.4 MB\n"
     ]
    }
   ],
   "source": [
    "df.info()"
   ]
  },
  {
   "cell_type": "markdown",
   "id": "dbabc1fa-30b6-4b80-8d6c-b96d5bfe1e5a",
   "metadata": {},
   "source": [
    "- so there is no null value in te data"
   ]
  },
  {
   "cell_type": "code",
   "execution_count": 139,
   "id": "ed6bedfd-a577-455e-b887-f48866ea6f72",
   "metadata": {},
   "outputs": [
    {
     "data": {
      "text/plain": [
       "<AxesSubplot:xlabel='Class', ylabel='count'>"
      ]
     },
     "execution_count": 139,
     "metadata": {},
     "output_type": "execute_result"
    },
    {
     "data": {
      "image/png": "[encoded data removed]",
      "text/plain": [
       "<Figure size 432x288 with 1 Axes>"
      ]
     },
     "metadata": {
      "needs_background": "light"
     },
     "output_type": "display_data"
    }
   ],
   "source": [
    "sns.countplot(df.Class)"
   ]
  },
  {
   "cell_type": "markdown",
   "id": "407a4d66-0656-463a-a577-9162506ae2d2",
   "metadata": {},
   "source": [
    "- so here we can see that the data is totally biased toward no fraud happens.\n",
    "- hence to balance the data or to avoid wrong prediction we have to take some sample from the data and need to generate the data for training and test"
   ]
  },
  {
   "cell_type": "code",
   "execution_count": 140,
   "id": "c240e891-cfd4-428e-86ec-460983c7a688",
   "metadata": {},
   "outputs": [
    {
     "data": {
      "text/plain": [
       "0    284315\n",
       "1       492\n",
       "Name: Class, dtype: int64"
      ]
     },
     "execution_count": 140,
     "metadata": {},
     "output_type": "execute_result"
    }
   ],
   "source": [
    "df.Class.value_counts()"
   ]
  },
  {
   "cell_type": "markdown",
   "id": "905c81f5-e4e4-4ba5-80ff-82ff74a1089c",
   "metadata": {},
   "source": [
    "- there are too less data which describe about the fraud is happen."
   ]
  },
  {
   "cell_type": "code",
   "execution_count": 141,
   "id": "31037bf0-270c-441b-af99-9f380beb1ddd",
   "metadata": {},
   "outputs": [
    {
     "data": {
      "text/plain": [
       "0             0.000\n",
       "1             0.000\n",
       "2             1.000\n",
       "3             1.000\n",
       "4             2.000\n",
       "            ...    \n",
       "284802   172786.000\n",
       "284803   172787.000\n",
       "284804   172788.000\n",
       "284805   172788.000\n",
       "284806   172792.000\n",
       "Name: Time, Length: 284807, dtype: float64"
      ]
     },
     "execution_count": 141,
     "metadata": {},
     "output_type": "execute_result"
    }
   ],
   "source": [
    "df.Time"
   ]
  },
  {
   "cell_type": "markdown",
   "id": "9f7dceb9-60e6-43af-bd9f-3fe01c37ad43",
   "metadata": {},
   "source": [
    "- as we can see that the feature **Time** has huge value which cannot helpful in our prediction.\n",
    "- also the credit card fraud is independent on time hence it is ok to drop that feature"
   ]
  },
  {
   "cell_type": "code",
   "execution_count": 142,
   "id": "671eb5f9-d3b5-4a20-8267-ccdf8080b261",
   "metadata": {},
   "outputs": [
    {
     "data": {
      "text/plain": [
       "(284807, 30)"
      ]
     },
     "execution_count": 142,
     "metadata": {},
     "output_type": "execute_result"
    }
   ],
   "source": [
    "df.drop('Time',axis=1,inplace=True)\n",
    "df.shape"
   ]
  },
  {
   "cell_type": "markdown",
   "id": "cbfcaef7-37a0-472a-ac31-dcdca24f3b3f",
   "metadata": {},
   "source": [
    "- we have dropped the feature Time which is not contributing towards target feature.\n",
    "#### before performing any data preprocessing and data normalization we will build the ANN model so that we can compare it with others ANN model which we build after data processing."
   ]
  },
  {
   "cell_type": "code",
   "execution_count": 143,
   "id": "4e5e6f1e-cff4-4624-8ae9-c89aeab8dc67",
   "metadata": {},
   "outputs": [],
   "source": [
    "X = df.drop('Class',axis=1)\n",
    "y = df['Class']"
   ]
  },
  {
   "cell_type": "code",
   "execution_count": 144,
   "id": "b1f49b8b-5d30-40fe-908c-10f170d5d535",
   "metadata": {},
   "outputs": [
    {
     "data": {
      "text/plain": [
       "((284807, 29), (284807,))"
      ]
     },
     "execution_count": 144,
     "metadata": {},
     "output_type": "execute_result"
    }
   ],
   "source": [
    "X.shape,y.shape"
   ]
  },
  {
   "cell_type": "code",
   "execution_count": 145,
   "id": "9ad9e5f5-1daf-4b8e-8b0d-aaf4f88454c4",
   "metadata": {},
   "outputs": [
    {
     "data": {
      "text/plain": [
       "((199364, 29), (85443, 29), (199364,), (85443,))"
      ]
     },
     "execution_count": 145,
     "metadata": {},
     "output_type": "execute_result"
    }
   ],
   "source": [
    "X_train,X_test,y_train,y_test = train_test_split(X,y,train_size=0.7,random_state=42)\n",
    "X_train.shape ,X_test.shape ,y_train.shape ,y_test.shape"
   ]
  },
  {
   "cell_type": "markdown",
   "id": "db725eb5-c955-4f48-b1be-b1362ec17bd2",
   "metadata": {},
   "source": [
    "# Model 1"
   ]
  },
  {
   "cell_type": "code",
   "execution_count": 174,
   "id": "74c6d838-6f3f-4a2d-bfe2-299f737d2e40",
   "metadata": {},
   "outputs": [],
   "source": [
    "import tensorflow as tf\n",
    "from tensorflow.keras.models import Sequential\n",
    "from tensorflow.keras.layers import Dense,BatchNormalization,Dropout\n",
    "from tensorflow.keras.optimizers import SGD,Adam"
   ]
  },
  {
   "cell_type": "code",
   "execution_count": 264,
   "id": "082256c3-b325-4215-9c76-81deed877199",
   "metadata": {},
   "outputs": [
    {
     "name": "stdout",
     "output_type": "stream",
     "text": [
      "Model: \"sequential_18\"\n",
      "_________________________________________________________________\n",
      "Layer (type)                 Output Shape              Param #   \n",
      "=================================================================\n",
      "dense_80 (Dense)             (None, 16)                480       \n",
      "_________________________________________________________________\n",
      "dense_81 (Dense)             (None, 8)                 136       \n",
      "_________________________________________________________________\n",
      "dense_82 (Dense)             (None, 4)                 36        \n",
      "_________________________________________________________________\n",
      "dense_83 (Dense)             (None, 1)                 5         \n",
      "=================================================================\n",
      "Total params: 657\n",
      "Trainable params: 657\n",
      "Non-trainable params: 0\n",
      "_________________________________________________________________\n"
     ]
    }
   ],
   "source": [
    "model = Sequential()\n",
    "model.add(Dense(16,activation='relu', input_shape=(X.shape[1],)))\n",
    "model.add(Dense(8,activation='relu'))\n",
    "model.add(Dense(4,activation='relu'))\n",
    "model.add(Dense(1,activation='sigmoid'))\n",
    "\n",
    "model.compile(optimizer='sgd',loss='binary_crossentropy',metrics=['accuracy'])\n",
    "model.summary()"
   ]
  },
  {
   "cell_type": "markdown",
   "id": "9de3df76-17d1-4951-b691-162e3fd51ac3",
   "metadata": {},
   "source": [
    "## Model Architecture - \n",
    "- the input layer has 29 neurons followed by 16 neuron which are fully connected with in neurons.\n",
    "- the model has 3 hidden layers with 1 input an 1 output layer with all default parameter.\n",
    "- here we have used activation as relu in hidden and input layer which make 0 if neuron op is less than 0 else it pass the op as it is.\n",
    "- in last layer we have used sigmoid as activation function which soften the output rather than direct 0 and 1 and it pass 0 if op <0 else 1.\n",
    "- we have used all default optimizers and loss function."
   ]
  },
  {
   "cell_type": "code",
   "execution_count": 265,
   "id": "d4e2e416-e024-4c5c-9fef-7e0e1786379c",
   "metadata": {},
   "outputs": [
    {
     "name": "stdout",
     "output_type": "stream",
     "text": [
      "Epoch 1/10\n",
      "6231/6231 [==============================] - 7s 1ms/step - loss: 0.0538 - accuracy: 0.9977 - val_loss: 0.0197 - val_accuracy: 0.9988\n",
      "Epoch 2/10\n",
      "6231/6231 [==============================] - 6s 994us/step - loss: 0.0117 - accuracy: 0.9985 - val_loss: 0.0074 - val_accuracy: 0.9987\n",
      "Epoch 3/10\n",
      "6231/6231 [==============================] - 6s 990us/step - loss: 0.0076 - accuracy: 0.9985 - val_loss: 0.0051 - val_accuracy: 0.9987\n",
      "Epoch 4/10\n",
      "6231/6231 [==============================] - 6s 989us/step - loss: 0.0090 - accuracy: 0.9983 - val_loss: 0.0056 - val_accuracy: 0.9987\n",
      "Epoch 5/10\n",
      "6231/6231 [==============================] - 7s 1ms/step - loss: 0.0078 - accuracy: 0.9984 - val_loss: 0.0051 - val_accuracy: 0.9987\n",
      "Epoch 6/10\n",
      "6231/6231 [==============================] - 6s 1ms/step - loss: 0.0077 - accuracy: 0.9984 - val_loss: 0.0055 - val_accuracy: 0.9987 - l - E\n",
      "Epoch 7/10\n",
      "6231/6231 [==============================] - 6s 1ms/step - loss: 0.0061 - accuracy: 0.9985 - val_loss: 0.0041 - val_accuracy: 0.9992\n",
      "Epoch 8/10\n",
      "6231/6231 [==============================] - 6s 971us/step - loss: 0.0088 - accuracy: 0.9983 - val_loss: 0.0041 - val_accuracy: 0.9987: 0.99\n",
      "Epoch 9/10\n",
      "6231/6231 [==============================] - 7s 1ms/step - loss: 0.0062 - accuracy: 0.9986 - val_loss: 0.0038 - val_accuracy: 0.9991\n",
      "Epoch 10/10\n",
      "6231/6231 [==============================] - 6s 1ms/step - loss: 0.0065 - accuracy: 0.9982 - val_loss: 0.0055 - val_accuracy: 0.9987\n"
     ]
    }
   ],
   "source": [
    "model_his = model.fit(X,y,epochs=10,validation_split=0.3,verbose=1)"
   ]
  },
  {
   "cell_type": "markdown",
   "id": "f1728cd1-cbc2-49a1-892a-2ac4de4ab87b",
   "metadata": {},
   "source": [
    "- as just by training the model on the given data without any preprocessing we get aroun 99.80% accuracy.\n",
    "- but we have to note that our data is highly imbalance hence it might predict not fraud as not fraud but it may fail to predict the fraud.\n",
    "- now we have to balance the data somewhat our need to build the ANN model as robust as it can predict fraud as fraud only.\n"
   ]
  },
  {
   "cell_type": "code",
   "execution_count": 266,
   "id": "8e543a84-2fd1-490e-817d-91127d7be0ce",
   "metadata": {},
   "outputs": [
    {
     "name": "stdout",
     "output_type": "stream",
     "text": [
      "4985/4985 [==============================] - 5s 997us/step - loss: 0.0047 - accuracy: 0.9984\n",
      "[0.004717982839792967, 0.9984450340270996]\n",
      "2671/2671 [==============================] - 3s 992us/step - loss: 0.0037 - accuracy: 0.99880s - loss:\n",
      "[0.0037195889744907618, 0.9987711310386658]\n"
     ]
    }
   ],
   "source": [
    "print(model.evaluate(X_train,y_train))\n",
    "print(model.evaluate(X_test,y_test))"
   ]
  },
  {
   "cell_type": "markdown",
   "id": "a5783858-291d-42b1-ba25-a21c9a604a5d",
   "metadata": {},
   "source": [
    "- on our basic architecture we got better accuracy but we have to take care that our model should precit fraud as fraud"
   ]
  },
  {
   "cell_type": "code",
   "execution_count": 267,
   "id": "fd1ef701-5e01-4722-88fb-10f35c031fee",
   "metadata": {},
   "outputs": [],
   "source": [
    "from sklearn.metrics import average_precision_score,confusion_matrix"
   ]
  },
  {
   "cell_type": "code",
   "execution_count": 268,
   "id": "fbf200ca-9503-4321-8ddc-bc2db908fe22",
   "metadata": {
    "tags": []
   },
   "outputs": [
    {
     "name": "stdout",
     "output_type": "stream",
     "text": [
      "2671/2671 [==============================] - ETA: 0s - loss: 0.0037 - accuracy: 0.99 - 3s 1ms/step - loss: 0.0037 - accuracy: 0.9988\n",
      "The model test accuracy is 0.9987711310386658.\n"
     ]
    }
   ],
   "source": [
    "test_results = model.evaluate(X_test, y_test)\n",
    "print(\"The model test accuracy is {}.\".format(test_results[1]))"
   ]
  },
  {
   "cell_type": "code",
   "execution_count": 280,
   "id": "e3f6b48f-f476-4710-84e8-26c5b8d72cd7",
   "metadata": {},
   "outputs": [
    {
     "name": "stdout",
     "output_type": "stream",
     "text": [
      "The model test average precision score is 0.3251473576298363.\n",
      "The model test average precision score with th is 0.6612922877377488.\n"
     ]
    }
   ],
   "source": [
    "y_predict = np.argmax(model.predict(X_test), axis=1)\n",
    "y_predict_th = model.predict(X_test)>0.15\n",
    "ap_score = average_precision_score(y_test, predictions)\n",
    "ap_score_th = average_precision_score(y_test, y_predict_th)\n",
    "print(\"The model test average precision score is {}.\".format(ap_score))\n",
    "print(\"The model test average precision score with th is {}.\".format(ap_score_th))"
   ]
  },
  {
   "cell_type": "code",
   "execution_count": 281,
   "id": "a8ee43fd-951b-4b44-8736-b8e755418e5d",
   "metadata": {},
   "outputs": [
    {
     "data": {
      "text/plain": [
       "<AxesSubplot:>"
      ]
     },
     "execution_count": 281,
     "metadata": {},
     "output_type": "execute_result"
    },
    {
     "data": {
      "image/png": "[encoded data removed]",
      "text/plain": [
       "<Figure size 432x288 with 2 Axes>"
      ]
     },
     "metadata": {
      "needs_background": "light"
     },
     "output_type": "display_data"
    }
   ],
   "source": [
    "confusion_mat = confusion_matrix(y_test,y_predict)\n",
    "sns.heatmap(confusion_mat, annot=True,fmt='g')"
   ]
  },
  {
   "cell_type": "markdown",
   "id": "d2681fc2-ae27-4b86-a679-5f6edb425680",
   "metadata": {},
   "source": [
    "- here we can observe that our model is doing good for predicting not fraud as not fraud but it fails to prdict fraud as fraud.\n",
    "- and we know that we are solving the classification problem which has to classify the fraduent trascation hence we have to build a model which classify the fraud trans as fraud trans."
   ]
  },
  {
   "cell_type": "code",
   "execution_count": 282,
   "id": "0f69c729-5b70-4ad1-b53a-70943e9f5b60",
   "metadata": {},
   "outputs": [
    {
     "data": {
      "text/plain": [
       "<AxesSubplot:>"
      ]
     },
     "execution_count": 282,
     "metadata": {},
     "output_type": "execute_result"
    },
    {
     "data": {
      "image/png": "[encoded data removed]",
      "text/plain": [
       "<Figure size 432x288 with 2 Axes>"
      ]
     },
     "metadata": {
      "needs_background": "light"
     },
     "output_type": "display_data"
    }
   ],
   "source": [
    "confusion_mat_th = confusion_matrix(y_test,y_predict_th)\n",
    "sns.heatmap(confusion_mat_th, annot=True,fmt='g')"
   ]
  },
  {
   "cell_type": "markdown",
   "id": "8b22732d-8734-4d48-8c46-19b5c0cad84e",
   "metadata": {},
   "source": [
    "- just by applying the threshold value to 0.2 we can see the difference\n",
    "- hence we should have to focus on the threshold value also with other parameters"
   ]
  },
  {
   "cell_type": "code",
   "execution_count": 283,
   "id": "3258df9a-1830-4d91-818f-3057126867e5",
   "metadata": {},
   "outputs": [
    {
     "data": {
      "image/png": "[encoded data removed]",
      "text/plain": [
       "<Figure size 432x288 with 1 Axes>"
      ]
     },
     "metadata": {
      "needs_background": "light"
     },
     "output_type": "display_data"
    }
   ],
   "source": [
    "# loss viz\n",
    "loss_train = model_his.history['loss']\n",
    "loss_val = model_his.history['val_loss']\n",
    "epochs = range(1,11)\n",
    "plt.plot(epochs, loss_train, 'g', label='Training loss')\n",
    "plt.plot(epochs, loss_val, 'b', label='Validation loss')\n",
    "plt.title('Training and Validation loss')\n",
    "plt.xlabel('Epochs')\n",
    "plt.ylabel('Loss')\n",
    "plt.legend()\n",
    "plt.show()"
   ]
  },
  {
   "cell_type": "code",
   "execution_count": 284,
   "id": "1cf66e72-f7bf-4300-83c9-aa6034aa0112",
   "metadata": {},
   "outputs": [
    {
     "data": {
      "image/png": "[encoded data removed]",
      "text/plain": [
       "<Figure size 432x288 with 1 Axes>"
      ]
     },
     "metadata": {
      "needs_background": "light"
     },
     "output_type": "display_data"
    }
   ],
   "source": [
    "# acc viz\n",
    "acc_train = model_his.history['accuracy']\n",
    "acc_val = model_his.history['val_accuracy']\n",
    "epochs = range(1,11)\n",
    "plt.plot(epochs, acc_train, 'g', label='Training accuracy')\n",
    "plt.plot(epochs, acc_val, 'b', label='validation accuracy')\n",
    "plt.title('Training and Validation accuracy')\n",
    "plt.xlabel('Epochs')\n",
    "plt.ylabel('Accuracy')\n",
    "plt.legend()\n",
    "plt.show()"
   ]
  },
  {
   "cell_type": "markdown",
   "id": "42293ee1-c922-46a2-9326-6e8a126b339b",
   "metadata": {},
   "source": [
    "# Model 2"
   ]
  },
  {
   "cell_type": "markdown",
   "id": "997d04b4-2d61-496e-af4c-b1a9cbf7a700",
   "metadata": {},
   "source": [
    "#### Processing the data and building the ANN model"
   ]
  },
  {
   "cell_type": "code",
   "execution_count": 169,
   "id": "72d74b39-d7f5-4c3f-b876-835e7d8b2136",
   "metadata": {},
   "outputs": [
    {
     "data": {
      "text/plain": [
       "((284807, 29), (284807,))"
      ]
     },
     "execution_count": 169,
     "metadata": {},
     "output_type": "execute_result"
    }
   ],
   "source": [
    "X = df.drop('Class',axis=1)\n",
    "y = df['Class']\n",
    "X.shape, y.shape"
   ]
  },
  {
   "cell_type": "code",
   "execution_count": 167,
   "id": "2b682111-0ee3-4c7e-80e9-e29da2c2aaf0",
   "metadata": {},
   "outputs": [],
   "source": [
    "from sklearn.model_selection import train_test_split\n",
    "from sklearn.preprocessing import StandardScaler"
   ]
  },
  {
   "cell_type": "code",
   "execution_count": 172,
   "id": "6ba557a3-7037-4257-8570-523db98dfaf3",
   "metadata": {},
   "outputs": [
    {
     "name": "stdout",
     "output_type": "stream",
     "text": [
      "fraud trans = 0.0017994745785028623\n",
      "not fraud trans = 0.9982005254214972\n"
     ]
    }
   ],
   "source": [
    "Scalar = StandardScaler()\n",
    "\n",
    "X_train_val, X_test, y_train_val, y_test = train_test_split(X,y,test_size=0.3,random_state=42)\n",
    "X_train, X_validate, y_train, y_validate = train_test_split(X_train_val,y_train_val,test_size=0.2,random_state=42)\n",
    "\n",
    "X_train = Scalar.fit_transform(X_train)\n",
    "X_validate = Scalar.fit_transform(X_validate)\n",
    "X_test = Scalar.fit_transform(X_test)\n",
    "\n",
    "val_fraud = y_train.value_counts()[0]/len(y_train)\n",
    "val_no_fraud = y_train.value_counts()[1]/len(y_train)\n",
    "\n",
    "print(\"fraud trans = {}\".format(val_no_fraud))\n",
    "print(\"not fraud trans = {}\".format(val_fraud))"
   ]
  },
  {
   "cell_type": "code",
   "execution_count": 285,
   "id": "61e15c12-1895-4e8f-9d89-d81d85f16ff1",
   "metadata": {},
   "outputs": [
    {
     "name": "stdout",
     "output_type": "stream",
     "text": [
      "Training X_train (159491, 29), y_train (159491,)\n",
      "Training X_validate (39873, 29), y_validate  (39873,)\n",
      "Training X_test (85443, 29), y_test (85443,)\n"
     ]
    }
   ],
   "source": [
    "print(\"Training X_train {}, y_train {}\".format(X_train.shape,y_train.shape))\n",
    "print(\"Training X_validate {}, y_validate  {}\".format(X_validate.shape,y_validate.shape))\n",
    "print(\"Training X_test {}, y_test {}\".format(X_test.shape,y_test.shape))"
   ]
  },
  {
   "cell_type": "code",
   "execution_count": 288,
   "id": "eeef9663-252e-4610-9bdf-def9ec2444b4",
   "metadata": {},
   "outputs": [
    {
     "name": "stdout",
     "output_type": "stream",
     "text": [
      "Model: \"sequential_19\"\n",
      "_________________________________________________________________\n",
      "Layer (type)                 Output Shape              Param #   \n",
      "=================================================================\n",
      "dense_84 (Dense)             (None, 64)                1920      \n",
      "_________________________________________________________________\n",
      "batch_normalization_18 (Batc (None, 64)                256       \n",
      "_________________________________________________________________\n",
      "dropout_11 (Dropout)         (None, 64)                0         \n",
      "_________________________________________________________________\n",
      "dense_85 (Dense)             (None, 32)                2080      \n",
      "_________________________________________________________________\n",
      "batch_normalization_19 (Batc (None, 32)                128       \n",
      "_________________________________________________________________\n",
      "dropout_12 (Dropout)         (None, 32)                0         \n",
      "_________________________________________________________________\n",
      "dense_86 (Dense)             (None, 32)                1056      \n",
      "_________________________________________________________________\n",
      "batch_normalization_20 (Batc (None, 32)                128       \n",
      "_________________________________________________________________\n",
      "dropout_13 (Dropout)         (None, 32)                0         \n",
      "_________________________________________________________________\n",
      "dense_87 (Dense)             (None, 16)                528       \n",
      "_________________________________________________________________\n",
      "batch_normalization_21 (Batc (None, 16)                64        \n",
      "_________________________________________________________________\n",
      "dropout_14 (Dropout)         (None, 16)                0         \n",
      "_________________________________________________________________\n",
      "dense_88 (Dense)             (None, 8)                 136       \n",
      "_________________________________________________________________\n",
      "batch_normalization_22 (Batc (None, 8)                 32        \n",
      "_________________________________________________________________\n",
      "dropout_15 (Dropout)         (None, 8)                 0         \n",
      "_________________________________________________________________\n",
      "dense_89 (Dense)             (None, 1)                 9         \n",
      "=================================================================\n",
      "Total params: 6,337\n",
      "Trainable params: 6,033\n",
      "Non-trainable params: 304\n",
      "_________________________________________________________________\n"
     ]
    }
   ],
   "source": [
    "model2 = Sequential()\n",
    "model2.add(Dense(64,activation='relu',input_shape=(X_train.shape[1],)))\n",
    "model2.add(BatchNormalization())\n",
    "model2.add(Dropout(0.2))\n",
    "model2.add(Dense(32,activation='relu'))\n",
    "model2.add(BatchNormalization())\n",
    "model2.add(Dropout(0.2))\n",
    "model2.add(Dense(32,activation='relu'))\n",
    "model2.add(BatchNormalization())\n",
    "model2.add(Dropout(0.2))\n",
    "model2.add(Dense(16,activation='relu'))\n",
    "model2.add(BatchNormalization())\n",
    "model2.add(Dropout(0.2))\n",
    "model2.add(Dense(8,activation='relu'))\n",
    "model2.add(BatchNormalization())\n",
    "model2.add(Dropout(0.2))\n",
    "model2.add(Dense(1,activation='sigmoid'))\n",
    "model2.summary()"
   ]
  },
  {
   "cell_type": "code",
   "execution_count": 289,
   "id": "d918399e-8cef-4a6f-9d0c-8d19c118750e",
   "metadata": {},
   "outputs": [],
   "source": [
    "model2.compile(optimizer='sgd',loss='binary_crossentropy', metrics=['accuracy',tf.keras.metrics.Precision(),tf.keras.metrics.Recall()])"
   ]
  },
  {
   "cell_type": "code",
   "execution_count": 290,
   "id": "ceea9dd0-6dce-4a82-bab9-ba874cf06485",
   "metadata": {},
   "outputs": [],
   "source": [
    "from tensorflow.keras.callbacks import EarlyStopping\n",
    "early_stop = EarlyStopping(monitor='accuracy',min_delta=0.001,patience=5)"
   ]
  },
  {
   "cell_type": "code",
   "execution_count": 291,
   "id": "a22dec37-469c-4c94-8657-5de0f4a0632f",
   "metadata": {},
   "outputs": [
    {
     "name": "stdout",
     "output_type": "stream",
     "text": [
      "Epoch 1/50\n",
      "1595/1595 [==============================] - 6s 3ms/step - loss: 0.1174 - accuracy: 0.9685 - precision_5: 0.0118 - recall_5: 0.1986 - val_loss: 0.0137 - val_accuracy: 0.9989 - val_precision_5: 0.7600 - val_recall_5: 0.5507\n",
      "Epoch 2/50\n",
      "1595/1595 [==============================] - 4s 3ms/step - loss: 0.0195 - accuracy: 0.9979 - precision_5: 0.3017 - recall_5: 0.1220 - val_loss: 0.0083 - val_accuracy: 0.9990 - val_precision_5: 0.7544 - val_recall_5: 0.6232_5: 0.2588 -  - ETA: 0s - loss: 0.0200 - accuracy: 0.9979 - precision_5: 0.2897 - recall_5: 0.11 - ETA: 0s - loss: 0.0198 - accuracy: 0.9979 - precision_5: 0.2946 - recall_5: 0\n",
      "Epoch 3/50\n",
      "1595/1595 [==============================] - 4s 3ms/step - loss: 0.0140 - accuracy: 0.9982 - precision_5: 0.4583 - recall_5: 0.1533 - val_loss: 0.0073 - val_accuracy: 0.9991 - val_precision_5: 0.7705 - val_recall_5: 0.6812\n",
      "Epoch 4/50\n",
      "1595/1595 [==============================] - 4s 3ms/step - loss: 0.0115 - accuracy: 0.9983 - precision_5: 0.5701 - recall_5: 0.2125 - val_loss: 0.0080 - val_accuracy: 0.9992 - val_precision_5: 0.7826 - val_recall_5: 0.78260.0119\n",
      "Epoch 5/50\n",
      "1595/1595 [==============================] - 4s 3ms/step - loss: 0.0100 - accuracy: 0.9984 - precision_5: 0.6364 - recall_5: 0.2927 - val_loss: 0.0082 - val_accuracy: 0.9992 - val_precision_5: 0.7746 - val_recall_5: 0.7971\n",
      "Epoch 6/50\n",
      "1595/1595 [==============================] - 4s 3ms/step - loss: 0.0094 - accuracy: 0.9984 - precision_5: 0.6231 - recall_5: 0.2822 - val_loss: 0.0091 - val_accuracy: 0.9992 - val_precision_5: 0.7534 - val_recall_5: 0.7971\n",
      "Epoch 7/50\n",
      "1595/1595 [==============================] - 4s 3ms/step - loss: 0.0089 - accuracy: 0.9986 - precision_5: 0.7000 - recall_5: 0.3415 - val_loss: 0.0099 - val_accuracy: 0.9992 - val_precision_5: 0.7534 - val_recall_5: 0.79710.0095 - accuracy: 0.9985 - precisio\n"
     ]
    }
   ],
   "source": [
    "model2_his = model2.fit(X_train,y_train, validation_data=(X_validate,y_validate),epochs=50,batch_size=100,callbacks=early_stop)"
   ]
  },
  {
   "cell_type": "code",
   "execution_count": 301,
   "id": "1283dae6-7cae-43c6-b057-abcfec7124a9",
   "metadata": {},
   "outputs": [
    {
     "name": "stdout",
     "output_type": "stream",
     "text": [
      "The model test average precision score is 0.6632041597583478.\n"
     ]
    }
   ],
   "source": [
    "y_predict_test = model.predict(X_test)>0.13\n",
    "ap_score_test = average_precision_score(y_test, y_predict_test)\n",
    "print(\"The model test average precision score is {}.\".format(ap_score_test))"
   ]
  },
  {
   "cell_type": "code",
   "execution_count": 302,
   "id": "d28e5f85-80a8-4e6c-879d-03eef9dd4bac",
   "metadata": {},
   "outputs": [
    {
     "data": {
      "text/plain": [
       "<AxesSubplot:>"
      ]
     },
     "execution_count": 302,
     "metadata": {},
     "output_type": "execute_result"
    },
    {
     "data": {
      "image/png": "[encoded data removed]",
      "text/plain": [
       "<Figure size 432x288 with 2 Axes>"
      ]
     },
     "metadata": {
      "needs_background": "light"
     },
     "output_type": "display_data"
    }
   ],
   "source": [
    "confusion_mat2 = confusion_matrix(y_test,y_predict_test)\n",
    "sns.heatmap(confusion_mat2, annot=True,fmt='g')"
   ]
  },
  {
   "cell_type": "code",
   "execution_count": 303,
   "id": "69e253df-9f1d-4006-86db-3650f37d780d",
   "metadata": {},
   "outputs": [
    {
     "data": {
      "text/plain": [
       "dict_keys(['loss', 'accuracy', 'precision_5', 'recall_5', 'val_loss', 'val_accuracy', 'val_precision_5', 'val_recall_5'])"
      ]
     },
     "execution_count": 303,
     "metadata": {},
     "output_type": "execute_result"
    }
   ],
   "source": [
    "model2_his.history.keys()"
   ]
  },
  {
   "cell_type": "code",
   "execution_count": 305,
   "id": "0337042a-eb17-471b-a8a9-fb852b896b78",
   "metadata": {},
   "outputs": [
    {
     "data": {
      "image/png": "[encoded data removed]",
      "text/plain": [
       "<Figure size 432x288 with 1 Axes>"
      ]
     },
     "metadata": {
      "needs_background": "light"
     },
     "output_type": "display_data"
    }
   ],
   "source": [
    "loss_train = model2_his.history['loss']\n",
    "loss_val = model2_his.history['val_loss']\n",
    "epochs = range(1,8)\n",
    "plt.plot(epochs, loss_train, 'g', label='Training loss')\n",
    "plt.plot(epochs, loss_val, 'b', label='Validation loss')\n",
    "plt.title('Training and Validation loss')\n",
    "plt.xlabel('Epochs')\n",
    "plt.ylabel('Loss')\n",
    "plt.legend()\n",
    "plt.show()"
   ]
  },
  {
   "cell_type": "code",
   "execution_count": 306,
   "id": "c7ceda79-466a-4b35-8f28-ef48352a0077",
   "metadata": {},
   "outputs": [
    {
     "data": {
      "image/png": "[encoded data removed]",
      "text/plain": [
       "<Figure size 432x288 with 1 Axes>"
      ]
     },
     "metadata": {
      "needs_background": "light"
     },
     "output_type": "display_data"
    }
   ],
   "source": [
    "acc_train = model2_his.history['accuracy']\n",
    "acc_val = model2_his.history['val_accuracy']\n",
    "epochs = range(1,8)\n",
    "plt.plot(epochs, acc_train, 'g', label='Training accuracy')\n",
    "plt.plot(epochs, acc_val, 'b', label='validation accuracy')\n",
    "plt.title('Training and Validation accuracy')\n",
    "plt.xlabel('Epochs')\n",
    "plt.ylabel('Accuracy')\n",
    "plt.legend()\n",
    "plt.show()"
   ]
  },
  {
   "cell_type": "code",
   "execution_count": 310,
   "id": "ec66cd25-b954-4736-ac4d-67e706459807",
   "metadata": {},
   "outputs": [
    {
     "data": {
      "image/png": "[encoded data removed]",
      "text/plain": [
       "<Figure size 432x288 with 1 Axes>"
      ]
     },
     "metadata": {
      "needs_background": "light"
     },
     "output_type": "display_data"
    }
   ],
   "source": [
    "acc_train = model2_his.history['precision_5']\n",
    "acc_val = model2_his.history['val_precision_5']\n",
    "epochs = range(1,8)\n",
    "plt.plot(epochs, acc_train, 'g', label='Training precision')\n",
    "plt.plot(epochs, acc_val, 'b', label='validation precision')\n",
    "plt.title('Training and Validation precision')\n",
    "plt.xlabel('Epochs')\n",
    "plt.ylabel('precision')\n",
    "plt.legend()\n",
    "plt.show()"
   ]
  },
  {
   "cell_type": "markdown",
   "id": "bb5fc41f-8db9-4728-a56c-efa2577f866e",
   "metadata": {},
   "source": [
    "# Model 3"
   ]
  },
  {
   "cell_type": "code",
   "execution_count": 320,
   "id": "2eb76689-b253-4975-a208-14517eea7958",
   "metadata": {},
   "outputs": [
    {
     "name": "stdout",
     "output_type": "stream",
     "text": [
      "Model: \"sequential_21\"\n",
      "_________________________________________________________________\n",
      "Layer (type)                 Output Shape              Param #   \n",
      "=================================================================\n",
      "dense_99 (Dense)             (None, 128)               3840      \n",
      "_________________________________________________________________\n",
      "batch_normalization_24 (Batc (None, 128)               512       \n",
      "_________________________________________________________________\n",
      "dropout_24 (Dropout)         (None, 128)               0         \n",
      "_________________________________________________________________\n",
      "dense_100 (Dense)            (None, 128)               16512     \n",
      "_________________________________________________________________\n",
      "dropout_25 (Dropout)         (None, 128)               0         \n",
      "_________________________________________________________________\n",
      "dense_101 (Dense)            (None, 128)               16512     \n",
      "_________________________________________________________________\n",
      "dropout_26 (Dropout)         (None, 128)               0         \n",
      "_________________________________________________________________\n",
      "dense_102 (Dense)            (None, 64)                8256      \n",
      "_________________________________________________________________\n",
      "dropout_27 (Dropout)         (None, 64)                0         \n",
      "_________________________________________________________________\n",
      "dense_103 (Dense)            (None, 64)                4160      \n",
      "_________________________________________________________________\n",
      "dropout_28 (Dropout)         (None, 64)                0         \n",
      "_________________________________________________________________\n",
      "dense_104 (Dense)            (None, 128)               8320      \n",
      "_________________________________________________________________\n",
      "dropout_29 (Dropout)         (None, 128)               0         \n",
      "_________________________________________________________________\n",
      "dense_105 (Dense)            (None, 128)               16512     \n",
      "_________________________________________________________________\n",
      "dropout_30 (Dropout)         (None, 128)               0         \n",
      "_________________________________________________________________\n",
      "dense_106 (Dense)            (None, 128)               16512     \n",
      "_________________________________________________________________\n",
      "dropout_31 (Dropout)         (None, 128)               0         \n",
      "_________________________________________________________________\n",
      "dense_107 (Dense)            (None, 1)                 129       \n",
      "=================================================================\n",
      "Total params: 91,265\n",
      "Trainable params: 91,009\n",
      "Non-trainable params: 256\n",
      "_________________________________________________________________\n"
     ]
    }
   ],
   "source": [
    "model3 = Sequential()\n",
    "model3.add(Dense(128,activation='relu',input_shape=(X_train.shape[1],)))\n",
    "model3.add(BatchNormalization())\n",
    "model3.add(Dropout(0.2))\n",
    "model3.add(Dense(128,activation='relu'))\n",
    "model3.add(Dropout(0.4))\n",
    "model3.add(Dense(128,activation='relu'))\n",
    "model3.add(Dropout(0.5))\n",
    "model3.add(Dense(64,activation='relu'))\n",
    "model3.add(Dropout(0.5))\n",
    "model3.add(Dense(64,activation='relu'))\n",
    "model3.add(Dropout(0.4))\n",
    "model3.add(Dense(128,activation='relu'))\n",
    "model3.add(Dropout(0.4))\n",
    "model3.add(Dense(128,activation='relu'))\n",
    "model3.add(Dropout(0.4))\n",
    "model3.add(Dense(128,activation='relu'))\n",
    "model3.add(Dropout(0.4))\n",
    "model3.add(Dense(1,activation='sigmoid'))\n",
    "model3.summary()"
   ]
  },
  {
   "cell_type": "code",
   "execution_count": 321,
   "id": "ec08c3e7-1358-4a1d-8a3c-2f3bf4ec41dd",
   "metadata": {},
   "outputs": [
    {
     "name": "stdout",
     "output_type": "stream",
     "text": [
      "Epoch 1/50\n",
      "798/798 [==============================] - 6s 6ms/step - loss: 0.0749 - accuracy: 0.9912 - precision_11: 0.0027 - recall_11: 0.0105 - val_loss: 0.0487 - val_accuracy: 0.9983 - val_precision_11: 0.0000e+00 - val_recall_11: 0.0000e+00\n",
      "Epoch 2/50\n",
      "798/798 [==============================] - 5s 6ms/step - loss: 0.0331 - accuracy: 0.9982 - precision_11: 0.0000e+00 - recall_11: 0.0000e+00 - val_loss: 0.0313 - val_accuracy: 0.9983 - val_precision_11: 0.0000e+00 - val_recall_11: 0.0000e+00\n",
      "Epoch 3/50\n",
      "798/798 [==============================] - 5s 6ms/step - loss: 0.0256 - accuracy: 0.9982 - precision_11: 0.0000e+00 - recall_11: 0.0000e+00 - val_loss: 0.0231 - val_accuracy: 0.9983 - val_precision_11: 0.0000e+00 - val_recall_11: 0.0000e+000.0\n",
      "Epoch 4/50\n",
      "798/798 [==============================] - 5s 6ms/step - loss: 0.0220 - accuracy: 0.9982 - precision_11: 0.0000e+00 - recall_11: 0.0000e+00 - val_loss: 0.0197 - val_accuracy: 0.9983 - val_precision_11: 0.0000e+00 - val_recall_11: 0.0000e+00\n",
      "Epoch 5/50\n",
      "798/798 [==============================] - 5s 6ms/step - loss: 0.0199 - accuracy: 0.9982 - precision_11: 0.0000e+00 - recall_11: 0.0000e+00 - val_loss: 0.0175 - val_accuracy: 0.9983 - val_precision_11: 0.0000e+00 - val_recall_11: 0.0000e+00\n",
      "Epoch 6/50\n",
      "798/798 [==============================] - 5s 6ms/step - loss: 0.0183 - accuracy: 0.9982 - precision_11: 0.0000e+00 - recall_11: 0.0000e+00 - val_loss: 0.0153 - val_accuracy: 0.9983 - val_precision_11: 0.0000e+00 - val_recall_11: 0.0000e+00\n",
      "Epoch 7/50\n",
      "798/798 [==============================] - 5s 6ms/step - loss: 0.0165 - accuracy: 0.9982 - precision_11: 0.0000e+00 - recall_11: 0.0000e+00 - val_loss: 0.0139 - val_accuracy: 0.9983 - val_precision_11: 0.0000e+00 - val_recall_11: 0.0000e+00\n"
     ]
    }
   ],
   "source": [
    "model3.compile(optimizer='sgd',loss='binary_crossentropy', metrics=['accuracy',tf.keras.metrics.Precision(),tf.keras.metrics.Recall()])\n",
    "early_stop = EarlyStopping(monitor='accuracy',min_delta=0.001,patience=5)\n",
    "model3_his = model3.fit(X_train,y_train, validation_data=(X_validate,y_validate),epochs=50,batch_size=200,callbacks=early_stop)"
   ]
  },
  {
   "cell_type": "code",
   "execution_count": 331,
   "id": "4139bf02-0e7c-42cf-928a-177cb5eee856",
   "metadata": {},
   "outputs": [
    {
     "name": "stdout",
     "output_type": "stream",
     "text": [
      "The model test average precision score is 0.3251473576298363.\n",
      "The model test average precision score with th is 0.16838266251265008.\n"
     ]
    }
   ],
   "source": [
    "y_predict = np.argmax(model3.predict(X_test), axis=1)\n",
    "y_predict_th = model3.predict(X_test)>0.1\n",
    "ap_score = average_precision_score(y_test, predictions)\n",
    "ap_score_th = average_precision_score(y_test, y_predict_th)\n",
    "print(\"The model test average precision score is {}.\".format(ap_score))\n",
    "print(\"The model test average precision score with th is {}.\".format(ap_score_th))"
   ]
  },
  {
   "cell_type": "code",
   "execution_count": 333,
   "id": "77f65e1a-3f84-4aa7-a64b-f3f9fb97c807",
   "metadata": {},
   "outputs": [
    {
     "data": {
      "text/plain": [
       "<AxesSubplot:>"
      ]
     },
     "execution_count": 333,
     "metadata": {},
     "output_type": "execute_result"
    },
    {
     "data": {
      "image/png": "[encoded data removed]",
      "text/plain": [
       "<Figure size 432x288 with 2 Axes>"
      ]
     },
     "metadata": {
      "needs_background": "light"
     },
     "output_type": "display_data"
    }
   ],
   "source": [
    "confusion_mat = confusion_matrix(y_test,y_predict)\n",
    "sns.heatmap(confusion_mat, annot=True,fmt='g')\n"
   ]
  },
  {
   "cell_type": "code",
   "execution_count": 334,
   "id": "561661e8-adba-49c2-b028-7be06243a6cf",
   "metadata": {},
   "outputs": [
    {
     "data": {
      "text/plain": [
       "<AxesSubplot:>"
      ]
     },
     "execution_count": 334,
     "metadata": {},
     "output_type": "execute_result"
    },
    {
     "data": {
      "image/png": "[encoded data removed]",
      "text/plain": [
       "<Figure size 432x288 with 2 Axes>"
      ]
     },
     "metadata": {
      "needs_background": "light"
     },
     "output_type": "display_data"
    }
   ],
   "source": [
    "confusion_mat_th = confusion_matrix(y_test,y_predict_th)\n",
    "sns.heatmap(confusion_mat_th, annot=True,fmt='g')"
   ]
  },
  {
   "cell_type": "code",
   "execution_count": 335,
   "id": "aa2070cb-9369-4d36-89e8-65ab8a3fe2de",
   "metadata": {},
   "outputs": [
    {
     "data": {
      "image/png": "[encoded data removed]",
      "text/plain": [
       "<Figure size 432x288 with 1 Axes>"
      ]
     },
     "metadata": {
      "needs_background": "light"
     },
     "output_type": "display_data"
    }
   ],
   "source": [
    "loss_train = model3_his.history['loss']\n",
    "loss_val = model3_his.history['val_loss']\n",
    "epochs = range(1,8)\n",
    "plt.plot(epochs, loss_train, 'g', label='Training loss')\n",
    "plt.plot(epochs, loss_val, 'b', label='Validation loss')\n",
    "plt.title('Training and Validation loss')\n",
    "plt.xlabel('Epochs')\n",
    "plt.ylabel('Loss')\n",
    "plt.legend()\n",
    "plt.show()"
   ]
  },
  {
   "cell_type": "code",
   "execution_count": 336,
   "id": "17ee6977-18f0-478e-b730-1982b80193b0",
   "metadata": {},
   "outputs": [
    {
     "data": {
      "image/png": "[encoded data removed]",
      "text/plain": [
       "<Figure size 432x288 with 1 Axes>"
      ]
     },
     "metadata": {
      "needs_background": "light"
     },
     "output_type": "display_data"
    }
   ],
   "source": [
    "acc_train = model3_his.history['accuracy']\n",
    "acc_val = model3_his.history['val_accuracy']\n",
    "epochs = range(1,8)\n",
    "plt.plot(epochs, acc_train, 'g', label='Training accuracy')\n",
    "plt.plot(epochs, acc_val, 'b', label='validation accuracy')\n",
    "plt.title('Training and Validation accuracy')\n",
    "plt.xlabel('Epochs')\n",
    "plt.ylabel('Accuracy')\n",
    "plt.legend()\n",
    "plt.show()"
   ]
  },
  {
   "cell_type": "code",
   "execution_count": 338,
   "id": "67bc8202-580a-4fbf-b79c-b9fcf2ab9887",
   "metadata": {},
   "outputs": [
    {
     "data": {
      "image/png": "[encoded data removed]",
      "text/plain": [
       "<Figure size 432x288 with 1 Axes>"
      ]
     },
     "metadata": {
      "needs_background": "light"
     },
     "output_type": "display_data"
    }
   ],
   "source": [
    "acc_train = model3_his.history['precision_11']\n",
    "acc_val = model3_his.history['val_precision_11']\n",
    "epochs = range(1,8)\n",
    "plt.plot(epochs, acc_train, 'g', label='Training precision')\n",
    "plt.plot(epochs, acc_val, 'b', label='validation precision')\n",
    "plt.title('Training and Validation precision')\n",
    "plt.xlabel('Epochs')\n",
    "plt.ylabel('precision')\n",
    "plt.legend()\n",
    "plt.show()"
   ]
  },
  {
   "cell_type": "markdown",
   "id": "1d92127f-dff4-44c0-a446-e5d0beb7765e",
   "metadata": {},
   "source": [
    "# Model 4"
   ]
  },
  {
   "cell_type": "code",
   "execution_count": 340,
   "id": "825e0d3d-59b9-4a40-8276-8818430e02c6",
   "metadata": {},
   "outputs": [
    {
     "name": "stdout",
     "output_type": "stream",
     "text": [
      "Model: \"sequential_23\"\n",
      "_________________________________________________________________\n",
      "Layer (type)                 Output Shape              Param #   \n",
      "=================================================================\n",
      "dense_118 (Dense)            (None, 256)               7680      \n",
      "_________________________________________________________________\n",
      "dense_119 (Dense)            (None, 256)               65792     \n",
      "_________________________________________________________________\n",
      "dense_120 (Dense)            (None, 256)               65792     \n",
      "_________________________________________________________________\n",
      "dense_122 (Dense)            (None, 256)               65792     \n",
      "_________________________________________________________________\n",
      "dense_123 (Dense)            (None, 256)               65792     \n",
      "_________________________________________________________________\n",
      "dense_124 (Dense)            (None, 128)               32896     \n",
      "_________________________________________________________________\n",
      "dense_126 (Dense)            (None, 32)                4128      \n",
      "_________________________________________________________________\n",
      "dense_127 (Dense)            (None, 1)                 33        \n",
      "=================================================================\n",
      "Total params: 307,905\n",
      "Trainable params: 307,905\n",
      "Non-trainable params: 0\n",
      "_________________________________________________________________\n"
     ]
    }
   ],
   "source": [
    "model4 = Sequential()\n",
    "model4.add(Dense(256,activation='relu',input_shape=(X_train.shape[1],)))\n",
    "model4.add(Dense(256,activation='relu'))\n",
    "model4.add(Dense(256,activation='relu'))\n",
    "model.add(Dense(256,activation='relu'))\n",
    "model4.add(Dense(256,activation='relu'))\n",
    "model4.add(Dense(256,activation='relu'))\n",
    "model4.add(Dense(128,activation='relu'))\n",
    "model.add(Dense(64,activation='relu'))\n",
    "model4.add(Dense(32,activation='relu'))\n",
    "model4.add(Dense(1,activation='sigmoid'))\n",
    "model4.summary()"
   ]
  },
  {
   "cell_type": "code",
   "execution_count": 341,
   "id": "718339d4-c795-43a6-9530-c39e47fb1eab",
   "metadata": {},
   "outputs": [
    {
     "name": "stdout",
     "output_type": "stream",
     "text": [
      "Epoch 1/50\n",
      "798/798 [==============================] - 4s 5ms/step - loss: 0.0660 - accuracy: 0.9981 - precision_12: 0.0000e+00 - recall_12: 0.0000e+00 - val_loss: 0.0189 - val_accuracy: 0.9983 - val_precision_12: 0.0000e+00 - val_recall_12: 0.0000e+00\n",
      "Epoch 2/50\n",
      "798/798 [==============================] - 3s 4ms/step - loss: 0.0132 - accuracy: 0.9982 - precision_12: 0.0000e+00 - recall_12: 0.0000e+00 - val_loss: 0.0098 - val_accuracy: 0.9983 - val_precision_12: 0.0000e+00 - val_recall_12: 0.0000e+00\n",
      "Epoch 3/50\n",
      "798/798 [==============================] - 4s 4ms/step - loss: 0.0077 - accuracy: 0.9982 - precision_12: 1.0000 - recall_12: 0.0035 - val_loss: 0.0067 - val_accuracy: 0.9983 - val_precision_12: 1.0000 - val_recall_12: 0.0145\n",
      "Epoch 4/50\n",
      "798/798 [==============================] - 4s 5ms/step - loss: 0.0060 - accuracy: 0.9985 - precision_12: 0.8475 - recall_12: 0.1742 - val_loss: 0.0056 - val_accuracy: 0.9988 - val_precision_12: 0.8667 - val_recall_12: 0.3768\n",
      "Epoch 5/50\n",
      "798/798 [==============================] - 4s 4ms/step - loss: 0.0051 - accuracy: 0.9988 - precision_12: 0.8705 - recall_12: 0.4216 - val_loss: 0.0050 - val_accuracy: 0.9991 - val_precision_12: 0.8696 - val_recall_12: 0.5797\n",
      "Epoch 6/50\n",
      "798/798 [==============================] - 4s 5ms/step - loss: 0.0046 - accuracy: 0.9992 - precision_12: 0.8732 - recall_12: 0.6237 - val_loss: 0.0047 - val_accuracy: 0.9992 - val_precision_12: 0.8276 - val_recall_12: 0.6957\n",
      "Epoch 7/50\n",
      "798/798 [==============================] - 4s 6ms/step - loss: 0.0043 - accuracy: 0.9993 - precision_12: 0.8772 - recall_12: 0.6969 - val_loss: 0.0044 - val_accuracy: 0.9993 - val_precision_12: 0.8387 - val_recall_12: 0.7536\n",
      "Epoch 8/50\n",
      "798/798 [==============================] - 4s 5ms/step - loss: 0.0040 - accuracy: 0.9994 - precision_12: 0.8821 - recall_12: 0.7561 - val_loss: 0.0043 - val_accuracy: 0.9993 - val_precision_12: 0.8413 - val_recall_12: 0.7681\n",
      "Epoch 9/50\n",
      "798/798 [==============================] - 4s 5ms/step - loss: 0.0038 - accuracy: 0.9994 - precision_12: 0.8800 - recall_12: 0.7666 - val_loss: 0.0041 - val_accuracy: 0.9993 - val_precision_12: 0.8182 - val_recall_12: 0.7826\n",
      "Epoch 10/50\n",
      "798/798 [==============================] - 4s 5ms/step - loss: 0.0037 - accuracy: 0.9994 - precision_12: 0.8711 - recall_12: 0.7770 - val_loss: 0.0040 - val_accuracy: 0.9993 - val_precision_12: 0.8182 - val_recall_12: 0.7826\n",
      "Epoch 11/50\n",
      "798/798 [==============================] - 4s 5ms/step - loss: 0.0036 - accuracy: 0.9994 - precision_12: 0.8711 - recall_12: 0.7770 - val_loss: 0.0039 - val_accuracy: 0.9993 - val_precision_12: 0.8060 - val_recall_12: 0.7826\n"
     ]
    }
   ],
   "source": [
    "model4.compile(optimizer='sgd',loss='binary_crossentropy', metrics=['accuracy',tf.keras.metrics.Precision(),tf.keras.metrics.Recall()])\n",
    "early_stop = EarlyStopping(monitor='accuracy',min_delta=0.001,patience=5)\n",
    "model4_his = model4.fit(X_train,y_train, validation_data=(X_validate,y_validate),epochs=50,batch_size=200,callbacks=early_stop)"
   ]
  },
  {
   "cell_type": "code",
   "execution_count": 368,
   "id": "04e5db75-e6c6-424f-a7d6-28cc6af4f759",
   "metadata": {},
   "outputs": [
    {
     "name": "stdout",
     "output_type": "stream",
     "text": [
      "The model test average precision score is 0.3251473576298363.\n",
      "The model test average precision score with th is 0.6165891113300768.\n"
     ]
    }
   ],
   "source": [
    "y_predict = np.argmax(model4.predict(X_test), axis=1)\n",
    "y_predict_th = model4.predict(X_test)>0.17\n",
    "ap_score = average_precision_score(y_test, predictions)\n",
    "ap_score_th = average_precision_score(y_test, y_predict_th)\n",
    "print(\"The model test average precision score is {}.\".format(ap_score))\n",
    "print(\"The model test average precision score with th is {}.\".format(ap_score_th))"
   ]
  },
  {
   "cell_type": "code",
   "execution_count": 343,
   "id": "38c0b6f9-2312-48ab-97bb-7d5a056d8e01",
   "metadata": {},
   "outputs": [
    {
     "data": {
      "text/plain": [
       "<AxesSubplot:>"
      ]
     },
     "execution_count": 343,
     "metadata": {},
     "output_type": "execute_result"
    },
    {
     "data": {
      "image/png": "[encoded data removed]",
      "text/plain": [
       "<Figure size 432x288 with 2 Axes>"
      ]
     },
     "metadata": {
      "needs_background": "light"
     },
     "output_type": "display_data"
    }
   ],
   "source": [
    "confusion_mat = confusion_matrix(y_test,y_predict)\n",
    "sns.heatmap(confusion_mat, annot=True,fmt='g')"
   ]
  },
  {
   "cell_type": "code",
   "execution_count": 369,
   "id": "04bd10db-1e3a-4c14-a892-bf970f017904",
   "metadata": {},
   "outputs": [
    {
     "data": {
      "text/plain": [
       "<AxesSubplot:>"
      ]
     },
     "execution_count": 369,
     "metadata": {},
     "output_type": "execute_result"
    },
    {
     "data": {
      "image/png": "[encoded data removed]",
      "text/plain": [
       "<Figure size 432x288 with 2 Axes>"
      ]
     },
     "metadata": {
      "needs_background": "light"
     },
     "output_type": "display_data"
    }
   ],
   "source": [
    "confusion_mat_th = confusion_matrix(y_test,y_predict_th)\n",
    "sns.heatmap(confusion_mat_th, annot=True,fmt='g')"
   ]
  },
  {
   "cell_type": "code",
   "execution_count": 370,
   "id": "dfadef26-2052-4696-bd3b-33560627087a",
   "metadata": {},
   "outputs": [
    {
     "data": {
      "image/png": "[encoded data removed]",
      "text/plain": [
       "<Figure size 432x288 with 1 Axes>"
      ]
     },
     "metadata": {
      "needs_background": "light"
     },
     "output_type": "display_data"
    }
   ],
   "source": [
    "loss_train = model4_his.history['loss']\n",
    "loss_val = model4_his.history['val_loss']\n",
    "epochs = range(1,12)\n",
    "plt.plot(epochs, loss_train, 'g', label='Training loss')\n",
    "plt.plot(epochs, loss_val, 'b', label='Validation loss')\n",
    "plt.title('Training and Validation loss')\n",
    "plt.xlabel('Epochs')\n",
    "plt.ylabel('Loss')\n",
    "plt.legend()\n",
    "plt.show()"
   ]
  },
  {
   "cell_type": "code",
   "execution_count": 371,
   "id": "1a43c8fe-e3eb-4024-aae4-d3eaaeb53589",
   "metadata": {},
   "outputs": [
    {
     "data": {
      "image/png": "[encoded data removed]",
      "text/plain": [
       "<Figure size 432x288 with 1 Axes>"
      ]
     },
     "metadata": {
      "needs_background": "light"
     },
     "output_type": "display_data"
    }
   ],
   "source": [
    "acc_train = model4_his.history['accuracy']\n",
    "acc_val = model4_his.history['val_accuracy']\n",
    "epochs = range(1,12)\n",
    "plt.plot(epochs, acc_train, 'g', label='Training accuracy')\n",
    "plt.plot(epochs, acc_val, 'b', label='validation accuracy')\n",
    "plt.title('Training and Validation accuracy')\n",
    "plt.xlabel('Epochs')\n",
    "plt.ylabel('Accuracy')\n",
    "plt.legend()\n",
    "plt.show()"
   ]
  },
  {
   "cell_type": "code",
   "execution_count": 372,
   "id": "6d1b3f84-1632-48b6-9567-6878e2fd2b40",
   "metadata": {},
   "outputs": [
    {
     "data": {
      "image/png": "[encoded data removed]",
      "text/plain": [
       "<Figure size 432x288 with 1 Axes>"
      ]
     },
     "metadata": {
      "needs_background": "light"
     },
     "output_type": "display_data"
    }
   ],
   "source": [
    "acc_train = model4_his.history['precision_12']\n",
    "acc_val = model4_his.history['val_precision_12']\n",
    "epochs = range(1,12)\n",
    "plt.plot(epochs, acc_train, 'g', label='Training precision')\n",
    "plt.plot(epochs, acc_val, 'b', label='validation precision')\n",
    "plt.title('Training and Validation precision')\n",
    "plt.xlabel('Epochs')\n",
    "plt.ylabel('precision')\n",
    "plt.legend()\n",
    "plt.show()"
   ]
  },
  {
   "cell_type": "markdown",
   "id": "eadbe098-f96d-479a-bba6-d88d3bdce3a1",
   "metadata": {},
   "source": [
    "# Model 5"
   ]
  },
  {
   "cell_type": "code",
   "execution_count": 373,
   "id": "3c4f2420-21b8-486a-9d26-0e5dc91afac8",
   "metadata": {},
   "outputs": [
    {
     "name": "stdout",
     "output_type": "stream",
     "text": [
      "Model: \"sequential_24\"\n",
      "_________________________________________________________________\n",
      "Layer (type)                 Output Shape              Param #   \n",
      "=================================================================\n",
      "dense_128 (Dense)            (None, 256)               7680      \n",
      "_________________________________________________________________\n",
      "dropout_32 (Dropout)         (None, 256)               0         \n",
      "_________________________________________________________________\n",
      "dense_129 (Dense)            (None, 256)               65792     \n",
      "_________________________________________________________________\n",
      "dropout_33 (Dropout)         (None, 256)               0         \n",
      "_________________________________________________________________\n",
      "dense_130 (Dense)            (None, 256)               65792     \n",
      "_________________________________________________________________\n",
      "dropout_34 (Dropout)         (None, 256)               0         \n",
      "_________________________________________________________________\n",
      "dense_131 (Dense)            (None, 256)               65792     \n",
      "_________________________________________________________________\n",
      "dense_132 (Dense)            (None, 256)               65792     \n",
      "_________________________________________________________________\n",
      "dense_133 (Dense)            (None, 256)               65792     \n",
      "_________________________________________________________________\n",
      "dropout_35 (Dropout)         (None, 256)               0         \n",
      "_________________________________________________________________\n",
      "dense_134 (Dense)            (None, 128)               32896     \n",
      "_________________________________________________________________\n",
      "dropout_36 (Dropout)         (None, 128)               0         \n",
      "_________________________________________________________________\n",
      "dense_135 (Dense)            (None, 128)               16512     \n",
      "_________________________________________________________________\n",
      "dropout_37 (Dropout)         (None, 128)               0         \n",
      "_________________________________________________________________\n",
      "dense_136 (Dense)            (None, 64)                8256      \n",
      "_________________________________________________________________\n",
      "dropout_38 (Dropout)         (None, 64)                0         \n",
      "_________________________________________________________________\n",
      "dense_137 (Dense)            (None, 64)                4160      \n",
      "_________________________________________________________________\n",
      "dropout_39 (Dropout)         (None, 64)                0         \n",
      "_________________________________________________________________\n",
      "dense_138 (Dense)            (None, 32)                2080      \n",
      "_________________________________________________________________\n",
      "dense_139 (Dense)            (None, 1)                 33        \n",
      "=================================================================\n",
      "Total params: 400,577\n",
      "Trainable params: 400,577\n",
      "Non-trainable params: 0\n",
      "_________________________________________________________________\n"
     ]
    }
   ],
   "source": [
    "model5 = Sequential()\n",
    "model5.add(Dense(256,activation='relu',input_shape=(X_train.shape[1],)))\n",
    "model5.add(Dropout(0.2))\n",
    "model5.add(Dense(256,activation='relu'))\n",
    "model5.add(Dropout(0.2))\n",
    "model5.add(Dense(256,activation='relu'))\n",
    "model5.add(Dropout(0.2))\n",
    "model5.add(Dense(256,activation='relu'))\n",
    "model5.add(Dense(256,activation='relu'))\n",
    "model5.add(Dense(256,activation='relu'))\n",
    "model5.add(Dropout(0.2))\n",
    "model5.add(Dense(128,activation='relu'))\n",
    "model5.add(Dropout(0.2))\n",
    "model5.add(Dense(128,activation='relu'))\n",
    "model5.add(Dropout(0.2))\n",
    "model5.add(Dense(64,activation='relu'))\n",
    "model5.add(Dropout(0.1))\n",
    "model5.add(Dense(64,activation='relu'))\n",
    "model5.add(Dropout(0.1))\n",
    "model5.add(Dense(32,activation='relu'))\n",
    "model5.add(Dense(1,activation='sigmoid'))\n",
    "model5.summary()"
   ]
  },
  {
   "cell_type": "code",
   "execution_count": 375,
   "id": "5b7f9a7c-fad1-461b-a760-90912fc1f9f4",
   "metadata": {},
   "outputs": [
    {
     "name": "stdout",
     "output_type": "stream",
     "text": [
      "Epoch 1/50\n",
      "1595/1595 [==============================] - 12s 7ms/step - loss: 0.0201 - accuracy: 0.9982 - precision_14: 0.0000e+00 - recall_14: 0.0000e+00 - val_loss: 0.0127 - val_accuracy: 0.9983 - val_precision_14: 0.0000e+00 - val_recall_14: 0.0000e+00\n",
      "Epoch 2/50\n",
      "1595/1595 [==============================] - 11s 7ms/step - loss: 0.0138 - accuracy: 0.9982 - precision_14: 0.0000e+00 - recall_14: 0.0000e+00 - val_loss: 0.0094 - val_accuracy: 0.9983 - val_precision_14: 0.0000e+00 - val_recall_14: 0.0000e+00\n",
      "Epoch 3/50\n",
      "1595/1595 [==============================] - 11s 7ms/step - loss: 0.0105 - accuracy: 0.9982 - precision_14: 0.0000e+00 - recall_14: 0.0000e+00 - val_loss: 0.0073 - val_accuracy: 0.9983 - val_precision_14: 0.0000e+00 - val_recall_14: 0.0000e+00\n",
      "Epoch 4/50\n",
      "1595/1595 [==============================] - 11s 7ms/step - loss: 0.0083 - accuracy: 0.9982 - precision_14: 0.0000e+00 - recall_14: 0.0000e+00 - val_loss: 0.0056 - val_accuracy: 0.9983 - val_precision_14: 0.0000e+00 - val_recall_14: 0.0000e+00\n",
      "Epoch 5/50\n",
      "1595/1595 [==============================] - 12s 7ms/step - loss: 0.0065 - accuracy: 0.9983 - precision_14: 0.7692 - recall_14: 0.0697 - val_loss: 0.0045 - val_accuracy: 0.9986 - val_precision_14: 0.7826 - val_recall_14: 0.2609\n",
      "Epoch 6/50\n",
      "1595/1595 [==============================] - 11s 7ms/step - loss: 0.0053 - accuracy: 0.9986 - precision_14: 0.8211 - recall_14: 0.2718 - val_loss: 0.0042 - val_accuracy: 0.9990 - val_precision_14: 0.8409 - val_recall_14: 0.5362\n"
     ]
    }
   ],
   "source": [
    "model5.compile(optimizer='sgd',loss='binary_crossentropy', metrics=['accuracy',tf.keras.metrics.Precision(),tf.keras.metrics.Recall()])\n",
    "early_stop = EarlyStopping(monitor='accuracy',min_delta=0.001,patience=5)\n",
    "model5_his = model5.fit(X_train,y_train, validation_data=(X_validate,y_validate),epochs=50,batch_size=100,callbacks=early_stop)"
   ]
  },
  {
   "cell_type": "code",
   "execution_count": 393,
   "id": "8a5bdba9-1003-4e01-94fa-a7d0dff5d4b8",
   "metadata": {},
   "outputs": [
    {
     "name": "stdout",
     "output_type": "stream",
     "text": [
      "The model test average precision score is 0.3251473576298363.\n",
      "The model test average precision score with th is 0.6855955056139688.\n"
     ]
    }
   ],
   "source": [
    "y_predict = np.argmax(model5.predict(X_test), axis=1)\n",
    "y_predict_th = model5.predict(X_test)>0.25\n",
    "ap_score = average_precision_score(y_test, predictions)\n",
    "ap_score_th = average_precision_score(y_test, y_predict_th)\n",
    "print(\"The model test average precision score is {}.\".format(ap_score))\n",
    "print(\"The model test average precision score with th is {}.\".format(ap_score_th))"
   ]
  },
  {
   "cell_type": "code",
   "execution_count": 377,
   "id": "a02fccf1-2bcc-43cb-9003-c33f697969b6",
   "metadata": {},
   "outputs": [
    {
     "data": {
      "text/plain": [
       "<AxesSubplot:>"
      ]
     },
     "execution_count": 377,
     "metadata": {},
     "output_type": "execute_result"
    },
    {
     "data": {
      "image/png": "[encoded data removed]",
      "text/plain": [
       "<Figure size 432x288 with 2 Axes>"
      ]
     },
     "metadata": {
      "needs_background": "light"
     },
     "output_type": "display_data"
    }
   ],
   "source": [
    "confusion_mat = confusion_matrix(y_test,y_predict)\n",
    "sns.heatmap(confusion_mat, annot=True,fmt='g')"
   ]
  },
  {
   "cell_type": "code",
   "execution_count": 394,
   "id": "2091fd9e-54e7-435b-a5b3-4cf6435c8c05",
   "metadata": {},
   "outputs": [
    {
     "data": {
      "text/plain": [
       "<AxesSubplot:>"
      ]
     },
     "execution_count": 394,
     "metadata": {},
     "output_type": "execute_result"
    },
    {
     "data": {
      "image/png": "[encoded data removed]",
      "text/plain": [
       "<Figure size 432x288 with 2 Axes>"
      ]
     },
     "metadata": {
      "needs_background": "light"
     },
     "output_type": "display_data"
    }
   ],
   "source": [
    "confusion_mat_th = confusion_matrix(y_test,y_predict_th)\n",
    "sns.heatmap(confusion_mat_th, annot=True,fmt='g')"
   ]
  },
  {
   "cell_type": "code",
   "execution_count": 395,
   "id": "7db39393-95ef-4a04-ac49-ac60a01f873c",
   "metadata": {},
   "outputs": [
    {
     "data": {
      "image/png": "[encoded data removed]",
      "text/plain": [
       "<Figure size 432x288 with 1 Axes>"
      ]
     },
     "metadata": {
      "needs_background": "light"
     },
     "output_type": "display_data"
    }
   ],
   "source": [
    "loss_train = model5_his.history['loss']\n",
    "loss_val = model5_his.history['val_loss']\n",
    "epochs = range(1,7)\n",
    "plt.plot(epochs, loss_train, 'g', label='Training loss')\n",
    "plt.plot(epochs, loss_val, 'b', label='Validation loss')\n",
    "plt.title('Training and Validation loss')\n",
    "plt.xlabel('Epochs')\n",
    "plt.ylabel('Loss')\n",
    "plt.legend()\n",
    "plt.show()"
   ]
  },
  {
   "cell_type": "code",
   "execution_count": 396,
   "id": "36f2dc2a-80c6-424b-919d-af7bb40d8386",
   "metadata": {},
   "outputs": [
    {
     "data": {
      "image/png": "[encoded data removed]",
      "text/plain": [
       "<Figure size 432x288 with 1 Axes>"
      ]
     },
     "metadata": {
      "needs_background": "light"
     },
     "output_type": "display_data"
    }
   ],
   "source": [
    "acc_train = model5_his.history['accuracy']\n",
    "acc_val = model5_his.history['val_accuracy']\n",
    "epochs = range(1,7)\n",
    "plt.plot(epochs, acc_train, 'g', label='Training accuracy')\n",
    "plt.plot(epochs, acc_val, 'b', label='validation accuracy')\n",
    "plt.title('Training and Validation accuracy')\n",
    "plt.xlabel('Epochs')\n",
    "plt.ylabel('Accuracy')\n",
    "plt.legend()\n",
    "plt.show()"
   ]
  },
  {
   "cell_type": "code",
   "execution_count": 397,
   "id": "3af7f9cd-0416-4342-9fc7-563b64101514",
   "metadata": {},
   "outputs": [
    {
     "data": {
      "image/png": "[encoded data removed]",
      "text/plain": [
       "<Figure size 432x288 with 1 Axes>"
      ]
     },
     "metadata": {
      "needs_background": "light"
     },
     "output_type": "display_data"
    }
   ],
   "source": [
    "acc_train = model5_his.history['precision_14']\n",
    "acc_val = model5_his.history['val_precision_14']\n",
    "epochs = range(1,7)\n",
    "plt.plot(epochs, acc_train, 'g', label='Training precision')\n",
    "plt.plot(epochs, acc_val, 'b', label='validation precision')\n",
    "plt.title('Training and Validation precision')\n",
    "plt.xlabel('Epochs')\n",
    "plt.ylabel('precision')\n",
    "plt.legend()\n",
    "plt.show()"
   ]
  },
  {
   "cell_type": "code",
   "execution_count": null,
   "id": "51875bda-233a-4700-8047-06c0e1332a9a",
   "metadata": {},
   "outputs": [],
   "source": []
  },
  {
   "cell_type": "code",
   "execution_count": null,
   "id": "ee5d8ea9-c78a-45d8-a7ad-1e94fb85eafa",
   "metadata": {},
   "outputs": [],
   "source": []
  },
  {
   "cell_type": "markdown",
   "id": "717e7448-fc62-427c-ad70-dd3b0a152b81",
   "metadata": {},
   "source": [
    "# Final Conclusion \n",
    "- Model 5 is performing better as compare to other model with threshold of 0.25.\n",
    "- after comparing all ANN model Model 5 is best but we may modify the model or reduce the layer to work with similar output if possible.\n",
    "- Model 5 accuracy\n",
    "    1. Training Acc = 99.86\n",
    "    2. Testing Acc = 99.90\n",
    "- Model 5 Loss\n",
    "    1. Training Loss =  0.0053\n",
    "    2. Testing Loss = 0.0042\n",
    "- Model 5 Precision \n",
    "    1. Training Precision = 0.8211 \n",
    "    2. Testing Precision = 0.8409\n",
    "\n",
    "- Model 5 is predicting 113 fraud out of 136 are fraud trans but not able to predict remaining 23 which is also doing better than other models\n",
    "- Model 5 test average precision score with th 0.25 is 0.6855955056139688.\n",
    "\n",
    "\n",
    "## Architecture of Model 5\n",
    "- This model has 11 hidden layers with variable neurons (256, 128 , 64, 32) and input layer with 29 neurons and op layer with 1 neuron which uses sigmoid activation function which soften the output rather than direct 0 and 1 and it pass 0 if op <0 else 1.\n",
    "- we have used all default optimizers and loss function with early stopping to stop the training of model and dropout to drop 20%  or 10% of neurons connection to make our model robust\n"
   ]
  },
  {
   "cell_type": "code",
   "execution_count": null,
   "id": "18f59a8e-346d-48b7-bb4a-b445f5eedca6",
   "metadata": {},
   "outputs": [],
   "source": []
  }
 ],
 "metadata": {
  "kernelspec": {
   "display_name": "Python 3",
   "language": "python",
   "name": "python3"
  },
  "language_info": {
   "codemirror_mode": {
    "name": "ipython",
    "version": 3
   },
   "file_extension": ".py",
   "mimetype": "text/x-python",
   "name": "python",
   "nbconvert_exporter": "python",
   "pygments_lexer": "ipython3",
   "version": "3.8.8"
  }
 },
 "nbformat": 4,
 "nbformat_minor": 5
}
