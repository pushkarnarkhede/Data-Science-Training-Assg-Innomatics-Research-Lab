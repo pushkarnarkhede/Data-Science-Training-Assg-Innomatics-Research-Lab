{
 "cells": [
  {
   "cell_type": "markdown",
   "metadata": {},
   "source": [
    "## Student Name - Pushkar Ashok Narkhede\n",
    "## Batch - 97"
   ]
  },
  {
   "cell_type": "markdown",
   "metadata": {},
   "source": [
    "###  LIST"
   ]
  },
  {
   "cell_type": "markdown",
   "metadata": {},
   "source": [
    "Create a list of numbers\n",
    "> nums = [1,2,3,4] "
   ]
  },
  {
   "cell_type": "code",
   "execution_count": 125,
   "metadata": {},
   "outputs": [
    {
     "name": "stdout",
     "output_type": "stream",
     "text": [
      "[1, 2, 3, 4]\n"
     ]
    }
   ],
   "source": [
    "nums = [1,2,3,4]\n",
    "print(nums)"
   ]
  },
  {
   "cell_type": "markdown",
   "metadata": {},
   "source": [
    "** 1. Remove number \"3\" in a list**"
   ]
  },
  {
   "cell_type": "code",
   "execution_count": 126,
   "metadata": {},
   "outputs": [
    {
     "name": "stdout",
     "output_type": "stream",
     "text": [
      "removed element 3 and the list is  [1, 2, 4]\n"
     ]
    }
   ],
   "source": [
    "# Method 1 \n",
    "nums.pop(2)\n",
    "print('removed element 3 and the list is ', nums)"
   ]
  },
  {
   "cell_type": "code",
   "execution_count": 118,
   "metadata": {},
   "outputs": [
    {
     "name": "stdout",
     "output_type": "stream",
     "text": [
      "removed element 3 and the list is  [1, 2, 4]\n"
     ]
    }
   ],
   "source": [
    "# Method 2\n",
    "nums.remove(3)\n",
    "print('removed element 3 and the list is ', nums)"
   ]
  },
  {
   "cell_type": "code",
   "execution_count": 43,
   "metadata": {},
   "outputs": [
    {
     "name": "stdout",
     "output_type": "stream",
     "text": [
      "removed element 3 and the list is  [1, 2, 4]\n"
     ]
    }
   ],
   "source": [
    "# Method 3\n",
    "del nums[2:3] # 2 is the starting position and 3 is the endition position ie. the 2 is the indec from which elements will deleting\n",
    "print('removed element 3 and the list is ', nums)"
   ]
  },
  {
   "cell_type": "markdown",
   "metadata": {},
   "source": [
    "** Remove last element in the list **\n",
    "> hint: remove 4 (L.pop)"
   ]
  },
  {
   "cell_type": "code",
   "execution_count": 127,
   "metadata": {},
   "outputs": [
    {
     "name": "stdout",
     "output_type": "stream",
     "text": [
      "removing the last item of list 4\n"
     ]
    }
   ],
   "source": [
    "print('removing the last item of list', nums.pop())"
   ]
  },
  {
   "cell_type": "markdown",
   "metadata": {},
   "source": [
    "**Check nums.pop(0) ** \n",
    "> write you comment after executing this command"
   ]
  },
  {
   "cell_type": "code",
   "execution_count": 128,
   "metadata": {},
   "outputs": [
    {
     "name": "stdout",
     "output_type": "stream",
     "text": [
      "1\n",
      "[2]\n"
     ]
    }
   ],
   "source": [
    "#pop either remove  last element if index is not provided else it remove the element from particular index \n",
    "print(nums.pop(0))\n",
    "print(nums)\n"
   ]
  },
  {
   "cell_type": "markdown",
   "metadata": {},
   "source": [
    " **Extent** list (3,4)\n",
    " > **hint: nums.extend([3,4])"
   ]
  },
  {
   "cell_type": "code",
   "execution_count": 107,
   "metadata": {},
   "outputs": [
    {
     "name": "stdout",
     "output_type": "stream",
     "text": [
      "[2, 4, 3, 4]\n"
     ]
    }
   ],
   "source": [
    "# Method1\n",
    "nums.append(3)\n",
    "nums.append(4)\n",
    "print(nums)\n"
   ]
  },
  {
   "cell_type": "code",
   "execution_count": 129,
   "metadata": {},
   "outputs": [
    {
     "name": "stdout",
     "output_type": "stream",
     "text": [
      "[2, 3, 4]\n"
     ]
    }
   ],
   "source": [
    "#Method 2\n",
    "nums.insert(2,3)\n",
    "nums.insert(3,4)\n",
    "print(nums)\n"
   ]
  },
  {
   "cell_type": "markdown",
   "metadata": {},
   "source": [
    "**Insert number \"1\" in 0th position**"
   ]
  },
  {
   "cell_type": "code",
   "execution_count": 130,
   "metadata": {},
   "outputs": [
    {
     "name": "stdout",
     "output_type": "stream",
     "text": [
      "[1, 2, 3, 4]\n"
     ]
    }
   ],
   "source": [
    "nums.insert(0,1)\n",
    "print(nums)"
   ]
  },
  {
   "cell_type": "markdown",
   "metadata": {},
   "source": [
    "**Insert \"two-and-half\" in 2nd position**"
   ]
  },
  {
   "cell_type": "code",
   "execution_count": 141,
   "metadata": {},
   "outputs": [],
   "source": []
  },
  {
   "cell_type": "code",
   "execution_count": 144,
   "metadata": {},
   "outputs": [
    {
     "data": {
      "text/plain": [
       "[1, 2, 'two-and-half', 3, 4]"
      ]
     },
     "execution_count": 144,
     "metadata": {},
     "output_type": "execute_result"
    }
   ],
   "source": [
    "nums.insert(2,'two-and-half')\n",
    "nums"
   ]
  },
  {
   "cell_type": "markdown",
   "metadata": {},
   "source": [
    "**2. Create a list with name plist with phrase = \"Don't panic!\"**"
   ]
  },
  {
   "cell_type": "code",
   "execution_count": 402,
   "metadata": {},
   "outputs": [
    {
     "name": "stdout",
     "output_type": "stream",
     "text": [
      "[\"Don't panic!\"]\n"
     ]
    }
   ],
   "source": [
    "plist = [\"Don't panic!\"]\n",
    "print(plist)"
   ]
  },
  {
   "cell_type": "markdown",
   "metadata": {},
   "source": [
    "*convert into list*"
   ]
  },
  {
   "cell_type": "code",
   "execution_count": 403,
   "metadata": {},
   "outputs": [
    {
     "name": "stdout",
     "output_type": "stream",
     "text": [
      "['D', 'o', 'n', \"'\", 't', 'p', 'a', 'n', 'i', 'c', '!']\n"
     ]
    }
   ],
   "source": [
    "plist3.clear()\n",
    "for i in plist[0]:\n",
    "    plist3 += i.split()\n",
    "print(plist3)   \n"
   ]
  },
  {
   "cell_type": "markdown",
   "metadata": {},
   "source": [
    "Remove ** '** and **!** in the list"
   ]
  },
  {
   "cell_type": "code",
   "execution_count": 404,
   "metadata": {},
   "outputs": [
    {
     "data": {
      "text/plain": [
       "['D', 'o', 'n', 't', 'p', 'a', 'n', 'i', 'c']"
      ]
     },
     "execution_count": 404,
     "metadata": {},
     "output_type": "execute_result"
    }
   ],
   "source": [
    "#if there is too lengthy list then we can do like this to remove every element \n",
    "\n",
    "for i in plist3:\n",
    "    if i == \"'\" or i == '!':\n",
    "        plist3.remove(i)\n",
    "        \n",
    "plist3\n",
    "\n",
    "#or if we knows the position or element   because remove remove first occurance of character \n",
    "\n",
    "#plist.remove(\"'\")\n",
    "#plist.remove('!')"
   ]
  },
  {
   "cell_type": "markdown",
   "metadata": {},
   "source": [
    "**Remove \"p\" , \"a\", \"n\",\"D\" and extend the list at the last**"
   ]
  },
  {
   "cell_type": "code",
   "execution_count": 405,
   "metadata": {},
   "outputs": [
    {
     "name": "stdout",
     "output_type": "stream",
     "text": [
      "iten to be deleted and extended ['p', 'a', 'n', 'D']\n"
     ]
    },
    {
     "data": {
      "text/plain": [
       "['o', 't', 'a', 'i', 'c', 'p', 'a', 'n', 'D']"
      ]
     },
     "execution_count": 405,
     "metadata": {},
     "output_type": "execute_result"
    }
   ],
   "source": [
    "delete_list = ['p', 'a', 'n', 'D']\n",
    "print('iten to be deleted and extended' , delete_list)\n",
    "\n",
    "# i stands for iterable \n",
    "# also remove repeatative value\n",
    "\n",
    "for i in plist3:         \n",
    "    if i in delete_list:\n",
    "        plist3.remove(i)\n",
    "        \n",
    "plist3.extend(delete_list)\n",
    "plist3"
   ]
  },
  {
   "cell_type": "markdown",
   "metadata": {},
   "source": [
    "**Explain how ?**"
   ]
  },
  {
   "cell_type": "markdown",
   "metadata": {},
   "source": [
    "1. To remove particular element in list we have to ways\n",
    "        a. use removeor pop commnds for every element to be remove \n",
    "        b. use iteration and remove that elements\n",
    "2. In above solution we created a list of the elements that need to be removed \n",
    "3. Then we iterate the primary list from where we have to remove elements \n",
    "4. Then we compare the element of primary list with the delete_list if the condition true then it will remove that particular variable \n",
    "5. then we extend the delete element list with our primary list and print the primary list "
   ]
  },
  {
   "cell_type": "markdown",
   "metadata": {},
   "source": [
    "**Joining List**"
   ]
  },
  {
   "cell_type": "markdown",
   "metadata": {},
   "source": [
    "**Extract last 4 element in plist and append \"a\" and name as plist1**"
   ]
  },
  {
   "cell_type": "markdown",
   "metadata": {},
   "source": [
    "- Extract list"
   ]
  },
  {
   "cell_type": "code",
   "execution_count": 421,
   "metadata": {},
   "outputs": [
    {
     "data": {
      "text/plain": [
       "['p', 'a', 'n', 'D']"
      ]
     },
     "execution_count": 421,
     "metadata": {},
     "output_type": "execute_result"
    }
   ],
   "source": [
    "last_four = plist3[-4:]\n",
    "last_four"
   ]
  },
  {
   "cell_type": "markdown",
   "metadata": {},
   "source": [
    "- append list"
   ]
  },
  {
   "cell_type": "code",
   "execution_count": 422,
   "metadata": {},
   "outputs": [
    {
     "data": {
      "text/plain": [
       "['p', 'a', 'n', 'D', 'a']"
      ]
     },
     "execution_count": 422,
     "metadata": {},
     "output_type": "execute_result"
    }
   ],
   "source": [
    "last_four.append('a')\n",
    "last_four"
   ]
  },
  {
   "cell_type": "markdown",
   "metadata": {},
   "source": [
    "- Join list"
   ]
  },
  {
   "cell_type": "code",
   "execution_count": 431,
   "metadata": {},
   "outputs": [
    {
     "data": {
      "text/plain": [
       "'panDa'"
      ]
     },
     "execution_count": 431,
     "metadata": {},
     "output_type": "execute_result"
    }
   ],
   "source": [
    "string_list = ''.join(last_four)\n",
    "string_list"
   ]
  },
  {
   "cell_type": "markdown",
   "metadata": {},
   "source": [
    "###  Tuples"
   ]
  },
  {
   "cell_type": "markdown",
   "metadata": {},
   "source": [
    "Create a tuples for numbers 31,24,35,85 as nums "
   ]
  },
  {
   "cell_type": "code",
   "execution_count": 479,
   "metadata": {},
   "outputs": [
    {
     "name": "stdout",
     "output_type": "stream",
     "text": [
      "data type <class 'tuple'>\n",
      "(31, 24, 35, 85)\n"
     ]
    }
   ],
   "source": [
    "# CODE HERE\n",
    "nums = (31,24,35,85)\n",
    "print('data type' , type(nums))\n",
    "print(nums)"
   ]
  },
  {
   "cell_type": "markdown",
   "metadata": {},
   "source": [
    "** Remove number \"35\" in a tuple**\n",
    "\n",
    "*Hint:* Convert into list"
   ]
  },
  {
   "cell_type": "code",
   "execution_count": 480,
   "metadata": {},
   "outputs": [
    {
     "data": {
      "text/plain": [
       "(31, 24, 85)"
      ]
     },
     "execution_count": 480,
     "metadata": {},
     "output_type": "execute_result"
    }
   ],
   "source": [
    "# CODE HERE\n",
    "tuple_list =list(nums)\n",
    "tuple_list.remove(35)\n",
    "nums = tuple(tuple_list)\n",
    "nums"
   ]
  },
  {
   "cell_type": "markdown",
   "metadata": {},
   "source": [
    "**Extent** tuple (85,19)"
   ]
  },
  {
   "cell_type": "code",
   "execution_count": 481,
   "metadata": {},
   "outputs": [
    {
     "data": {
      "text/plain": [
       "(31, 24, 85, 85, 19)"
      ]
     },
     "execution_count": 481,
     "metadata": {},
     "output_type": "execute_result"
    }
   ],
   "source": [
    "# CODE HERE\n",
    "nums2 = (85,19)\n",
    "nums += nums2\n",
    "nums"
   ]
  },
  {
   "cell_type": "markdown",
   "metadata": {},
   "source": [
    "### If the following string is given as input to the program:\n",
    "\n",
    "- '5 2 3 6 6 5'\n",
    "\n",
    "#### FInd the secong higest value from that"
   ]
  },
  {
   "cell_type": "code",
   "execution_count": 685,
   "metadata": {},
   "outputs": [
    {
     "name": "stdout",
     "output_type": "stream",
     "text": [
      "5 2 3 6 6 5\n",
      "['6', '6', '5', '5', '3', '2']\n",
      "highest elemet  6 count is  2\n",
      "second highest elemet is at position  2 and the elemet is  5\n"
     ]
    }
   ],
   "source": [
    "# input string \n",
    "input_string = '5 2 3 6 6 5'     \n",
    "print(input_string)\n",
    "\n",
    "# conerting input string to list \n",
    "list_of_str =input_string.split() \n",
    "\n",
    "# sorting the list in descending order or reverse\n",
    "list_of_str.sort(reverse=True)\n",
    "print(list_of_str)\n",
    "\n",
    "# getting 1st element of list as it is greater number in list \n",
    "pos_element = list_of_str[0]\n",
    "\n",
    "# getting the count of 1st position element to check wheather number of element with same value is greater than 1\n",
    "# if it is greater than one then we get the count and use it as a index to get the 2nd highest value \n",
    "\n",
    "countt = list_of_str.count(pos_element)\n",
    "print('highest elemet ', pos_element, 'count is ' , countt)\n",
    "\n",
    "# setting index to as it is because we know that index always start from 0 and we either 1 or more than 1 as a count \n",
    "print('second highest elemet is at position ',countt, 'and the elemet is ' , list_of_str[countt])\n",
    "\n",
    "\n",
    "\n",
    "# another way is to use indexing but it is not fisible if there is lare amount of data"
   ]
  },
  {
   "cell_type": "markdown",
   "metadata": {},
   "source": [
    "### By using list comprehension, please write a program to print the list after removing the 0th,4th,5th numbers in [12,24,35,70,88,120,155]."
   ]
  },
  {
   "cell_type": "code",
   "execution_count": 785,
   "metadata": {},
   "outputs": [
    {
     "name": "stdout",
     "output_type": "stream",
     "text": [
      "[12, 24, 35, 70, 88, 120, 155]\n",
      "after removing element  [24, 35, 70, 120]\n"
     ]
    }
   ],
   "source": [
    "new_list = [12,24,35,70,88,120,155]\n",
    "print(new_list)\n",
    "\n",
    "new_list.pop(0)\n",
    "new_list.pop(3)\n",
    "new_list.pop(4) # dont know but it is showing index out of range so i use given index-1 \n",
    "\n",
    "listt = [i for i in new_list if i in new_list]\n",
    "print('after removing element ', listt)\n",
    "\n",
    "\n",
    "# r = len(new_list)\n",
    "# print(r)\n",
    "# print(new_list)\n",
    "#for i in new_list:\n",
    "  #  if new_list.index(i) in position:\n",
    " #       print(new_list.index(i))\n",
    "  #      new_list.remove(i)\n",
    "  #      print(new_list)\n",
    "\n"
   ]
  },
  {
   "cell_type": "code",
   "execution_count": 722,
   "metadata": {},
   "outputs": [],
   "source": [
    "# CODE HERE"
   ]
  },
  {
   "cell_type": "markdown",
   "metadata": {},
   "source": [
    "### With a given tuple (1,2,3,4,5,6,7,8,9,10), write a program to print the first half values in one line and the last half values in one line."
   ]
  },
  {
   "cell_type": "code",
   "execution_count": 803,
   "metadata": {},
   "outputs": [
    {
     "name": "stdout",
     "output_type": "stream",
     "text": [
      "(1, 2, 3, 4, 5) (6, 7, 8, 9, 10)\n"
     ]
    }
   ],
   "source": [
    "given_tup = (1,2,3,4,5,6,7,8,9,10)\n",
    "given_tup_list = list(given_tup)\n",
    "    \n",
    "#length = len(given_tup_list)/2\n",
    "#int(length)\n",
    "tup1 = tuple(given_tup_list[:5])\n",
    "tup2 = tuple(given_tup_list[5:])\n",
    "\n",
    "print(tup1, tup2)"
   ]
  },
  {
   "cell_type": "markdown",
   "metadata": {},
   "source": [
    "### Write a program to generate and print another tuple whose values are even numbers in the given tuple (1,2,3,4,5,6,7,8,9,10)"
   ]
  },
  {
   "cell_type": "code",
   "execution_count": 811,
   "metadata": {},
   "outputs": [
    {
     "name": "stdout",
     "output_type": "stream",
     "text": [
      "(2, 4, 6, 8, 10)\n"
     ]
    }
   ],
   "source": [
    "new_tup = (1,2,3,4,5,6,7,8,9,10)\n",
    "list9 = list(new_tup)\n",
    "print(tuple([i for i in list9 if i%2 == 0]))"
   ]
  },
  {
   "cell_type": "markdown",
   "metadata": {},
   "source": [
    "# [Innomatics Research Labs](https:/innomatics.in/)\n",
    "[www.innomatics.in](https:/innomatics.in/)"
   ]
  },
  {
   "cell_type": "code",
   "execution_count": null,
   "metadata": {},
   "outputs": [],
   "source": []
  }
 ],
 "metadata": {
  "kernelspec": {
   "display_name": "Python 3",
   "language": "python",
   "name": "python3"
  },
  "language_info": {
   "codemirror_mode": {
    "name": "ipython",
    "version": 3
   },
   "file_extension": ".py",
   "mimetype": "text/x-python",
   "name": "python",
   "nbconvert_exporter": "python",
   "pygments_lexer": "ipython3",
   "version": "3.8.5"
  }
 },
 "nbformat": 4,
 "nbformat_minor": 2
}
